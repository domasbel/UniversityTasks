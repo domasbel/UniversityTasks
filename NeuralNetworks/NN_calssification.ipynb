{
 "cells": [
  {
   "cell_type": "markdown",
   "metadata": {},
   "source": [
    "### Trumpas teorijos įvadas. "
   ]
  },
  {
   "cell_type": "markdown",
   "metadata": {},
   "source": [
    "##### Kokios perdavimo funkcijos naudojamos išėjimo sluoksnio neuronuose klasifikavimo uždaviniuose? Kodėl?"
   ]
  },
  {
   "cell_type": "markdown",
   "metadata": {},
   "source": [
    "Klasifikavimo uždaviniuose, priklausomai nuo to, ar atliekama dvinarė, ar daugialypė klasifikacija, išėjimo sluoksnyje naudojamos skirtingos perdavimo funkcijos optimaliam rezultatui pasiekti. Dvinarėje klasifikacijoje dažniausiai pasitelkiama sigmoid funkcija, kuri efektyviai transformuoja neuronų išvestis į tikimybes, kad objektas priklauso vienai iš dviejų galimų klasių, tuo pačiu užtikrindama lengvą interpretuojamumą ir leidžianti naudoti gradientinio nusileidimo metodą svorių atnaujinimui. Tuo tarpu daugialypėje klasifikacijoje renkamasi softmax funkcija, kuri leidžia apskaičiuoti tikimybių pasiskirstymą tarp daugelio klasių, suteikiant galimybę modeliui išmokti atpažinti ir priskirti objektus prie vienos iš kelių nustatytų klasių. Šios funkcijos yra kritiškai svarbios siekiant užtikrinti, kad modelio sprendimai būtų tikslingi ir pagrįsti, padedant efektyviai nustatyti, kuriai klasei priklauso duomenų taškas.\n",
    "\n",
    "Sąmoningai aprašiau tik 'labiausiai' naudojamas kaip optimaliausias, tačiau buvo galima išvardinti ir daugiau tokios tahn, ReLU ir softmax plus. Svarbu atkreipti dėmesį, kad aktyvacijos funkcijos pasirinkimas priklauso nuo konkrečios užduoties, duomenų rinkinio ypatybių ir norimo modelio elgesio. Kiekviena aktyvacijos funkcija turi savo stipriąsias ir silpnąsias puses, todėl eksperimentinis jų taikymas ir vertinimas yra svarbus modeliavimo etapas, siekiant optimizuoti modelio veikimą."
   ]
  },
  {
   "cell_type": "markdown",
   "metadata": {},
   "source": [
    "##### Kokios perdavimo funkcijos naudojamos išėjimo sluoksnio neuronuose prognozavimo uždaviniuose? Kodėl?"
   ]
  },
  {
   "cell_type": "markdown",
   "metadata": {},
   "source": [
    "Regresijos uždaviniuose, skirtuose prognozuoti tęstines reikšmes, išėjimo sluoksnyje dažniausiai naudojama tiesinė (linear) perdavimo funkcija, kadangi ji leidžia modelio išvestims įgyti bet kokias reikšmes iš realiųjų skaičių aibės, taip užtikrinant universalią ir tiesioginę sąsają tarp neuronų tinklo svorių, poslinkių ir prognozuojamų verčių. Ši funkcija yra identiteto funkcija, kuri nekeičia svorių ir poslinkių sumos, todėl yra idealiai tinkama regresijos problemoms, kur reikia prognozuoti plačią vertės diapazoną. Nors kai kuriais specifiniais atvejais, priklausomai nuo uždavinio ypatumų, gali būti naudojamos ir kitos funkcijos, pavyzdžiui, ReLU ar Softplus užtikrinant, kad išvestys būtų teigiamos, tiesinė funkcija išlieka pagrindiniu pasirinkimu dėl jos paprastumo ir efektyvumo sprendžiant įvairias regresijos užduotis.\n",
    "\n",
    "Tačiau verta paminęti, jog sudėtingiems prognozavimo uždaviniams, pavyzdžiui, laiko eilučių prognozėms, kurios gali turėti cikliškumą, sezoniškumą ar netiesinius komponentus, dažnai naudojamos netiesinės aktyvacijos funkcijos tarpiniuose sluoksniuose. Šie sluoksniai, panaudojant tokias funkcijas kaip ReLU, tanh, arba net sudėtingesnes struktūras (pvz., LSTM ar GRU neuroninius tinklus), leidžia modeliui mokytis įvairių netiesinių priklausomybių. Tokiu būdu, nors išėjimo sluoksnyje gali būti taikoma linijinė funkcija, modelis vis tiek gali mokytis sudėtingų ryšių, nes jie yra išmokstami tarpiniuose sluoksniuose.\n",
    "\n",
    "ReLU (Rectified Linear Unit) funkcija dažniausiai naudojama paslėptuose sluoksniuose neuroniniuose tinkluose sprendžiant tokius uždavinius, kadangi ji efektyviai sprendžia gradientų išnykimo problemą ir padeda greitinti tinklo mokymosi procesą. Softplus funkcija, veikianti kaip ReLU išlyginta versija, gali būti naudojama tiek paslėptuose sluoksniuose siekiant išlaikyti glotnesnį gradientų srautą, tiek išėjimo sluoksnyje regresijos uždaviniuose, kur reikia užtikrinti, kad prognozuojamos reikšmės būtų griežtai teigiamos."
   ]
  },
  {
   "cell_type": "markdown",
   "metadata": {},
   "source": [
    "#####  Kokie parametrai ir kaip įtakos klasifikavimo/prognozavimo tikslumą?"
   ]
  },
  {
   "cell_type": "markdown",
   "metadata": {},
   "source": [
    "Modelio architektūra ir jos parametrai yra labai svarbūs siekiant optimizuoti tiek klasifikavimo ir tiek prognozavimo tikslumą. Tinkamas sluoksnių ir neuronų skaičius sluoksniuose yra būtinas norint suderinti modelio gebėjimą išmokti duomenų savybes be per mokymosi ar nepakankamo mokymosi rizikos, o aktyvacijos funkcijos pasirinkimas leidžia efektyviau perduoti ir transformuoti signalus per tinklą, užtikrinant geresnį netiesinį ryšių mokymąsi. Tuo pačiu, mokymo proceso parametrai, tokie kaip epochų skaičius, mokymo greitis ir partijos dydis, tiesiogiai įtakoja, kaip greitai ir veiksmingai modelis konverguoja prie optimalaus sprendimo, užtikrindami, kad svoriai būtų atnaujinami optimaliu tempu ir efektyvumu. Atidus šių parametrų derinimas ir eksperimentavimas yra būtinas, siekiant pasiekti aukščiausią įmanomą modelio veiklos lygį ir užtikrinti, kad modelis ne tik išmoktų mokymo duomenis, bet ir gebėtų efektyviai generalizuoti nežinomus duomenis.\n",
    "\n",
    "Epochų skaičius apibrėžia, kiek kartų mokymo algoritmas apdoros visą mokymo duomenų rinkinį, kur per mažas skaičius gali sukelti nepakankamą mokymąsi, o per didelis - per mokymąsi, pakenkiant modelio gebėjimui generalizuoti. Mokymo greitis nustato, kaip stipriai keičiami modelio svoriai per atnaujinimo iteraciją, su per dideliu greičiu galint sukelti nestabilų mokymąsi ir optimalaus sprendimo \"peršokimą\", o per mažas greitis - reikšti lėtą konvergenciją ir ilgesnį mokymosi laiką. Partijos dydis nurodo mokymo pavyzdžių skaičių, naudojamą vienoje iteracijoje, kur dideli dydžiai gali sumažinti modelio generalizavimo gebėjimus ir padidinti atminties reikalavimus, tuo tarpu maži dydžiai skatina dažnesnius svorių atnaujinimus ir gali padėti efektyviau išvengti lokalių minimumų, nors ir padidina gradientų variaciją. \n",
    "\n",
    "Tačiau svarbu, ne tik modelio parametrai ir tikslumas, bet ir reguliavimo technikos, kurios yra esminės norint išvengti overfittinimo, kai modelis tampa pernelyg pritaikytas prie mokymo duomenų ir prastai vertina/prognozuoja naujus duomenis. Technikos, pavyzdžiui, Dropout, L1 ir L2 reguliarizacija, bei ankstyvas stabdymas, padeda modeliui išlikti lankstesniam ir geriau veikti su nepažįstamais duomenimis."
   ]
  },
  {
   "cell_type": "markdown",
   "metadata": {},
   "source": [
    "### Pereiname prie jūsų duomenų rinkinio:"
   ]
  },
  {
   "cell_type": "code",
   "execution_count": 106,
   "metadata": {},
   "outputs": [],
   "source": [
    "import pandas as pd\n",
    "import numpy as np\n",
    "import itertools\n",
    "import optuna\n",
    "import matplotlib.pyplot as plt\n",
    "import tensorflow as tf\n",
    "import tensorflow.keras as keras\n",
    "from scipy.stats import chi2_contingency, f_oneway\n",
    "from datetime import datetime\n",
    "from sklearn.metrics import roc_curve, auc\n",
    "from tensorflow.keras.models import Sequential, Model\n",
    "from keras.optimizers import Adam, SGD\n",
    "from tensorflow.keras.layers import InputLayer, Dense\n",
    "from sklearn.preprocessing import StandardScaler\n",
    "from sklearn.model_selection import train_test_split, GridSearchCV\n",
    "from sklearn.preprocessing import LabelEncoder, OneHotEncoder\n",
    "from sklearn.decomposition import PCA"
   ]
  },
  {
   "cell_type": "code",
   "execution_count": 59,
   "metadata": {},
   "outputs": [],
   "source": [
    "label_encoder = LabelEncoder()\n",
    "scaler = StandardScaler()\n",
    "enc = OneHotEncoder()\n",
    "\n",
    "def calculate_age(birthdate):\n",
    "    birthdate = datetime.strptime(birthdate, \"%Y-%m-%d\")\n",
    "    today = datetime.today()\n",
    "    age = today.year - birthdate.year - ((today.month, today.day) < (birthdate.month, birthdate.day))\n",
    "    return age\n",
    "\n",
    "def apply_label_encoding(df, categorical_columns):\n",
    "    label_encoders = {}\n",
    "    \n",
    "    # Apply LabelEncoder to each categorical column\n",
    "    for col in categorical_columns:\n",
    "        le = LabelEncoder()\n",
    "        df[col] = le.fit_transform(df[col])\n",
    "        label_encoders[col] = le  # Save the encoder if you need it later\n",
    "    \n",
    "    # Return the modified DataFrame and the encoders\n",
    "    return df, label_encoders"
   ]
  },
  {
   "cell_type": "code",
   "execution_count": 36,
   "metadata": {},
   "outputs": [],
   "source": [
    "file_path = 'data/dataset_1.csv'\n",
    "\n",
    "df = pd.read_csv(file_path)"
   ]
  },
  {
   "cell_type": "markdown",
   "metadata": {},
   "source": [
    "Kadangi tarp savo duomenų turime stuleplių, kurių neapdorotos reikšmės daug prasmės NN nesuteikia, taigi jas pirmiausia perkoduosime į suprantamas."
   ]
  },
  {
   "cell_type": "code",
   "execution_count": 37,
   "metadata": {},
   "outputs": [
    {
     "name": "stdout",
     "output_type": "stream",
     "text": [
      "               name  job   birthdate  industry  city  state  postcode  netNew  \\\n",
      "0     Vincent Silva  409  1968-09-28         4   553     35     13536       1   \n",
      "1  Patrick Sandoval   40  1988-10-10         2   159      1     99112       1   \n",
      "2   Spencer Johnson  402  1961-09-01         3   572      6     10978       0   \n",
      "3    Angela Simmons  458  1995-03-04         3   206     43     42462       0   \n",
      "4   Jessica Simmons  130  1974-04-11         1     2     37     60772       1   \n",
      "\n",
      "   sales_rounded         0  ...        12        13        14        15  \\\n",
      "0            504  8.573927  ... -2.083372 -0.411697 -0.148949  0.750434   \n",
      "1            186 -0.200142  ... -2.689539  1.447976  1.170014 -1.582836   \n",
      "2            477 -1.130316  ...  0.818233 -0.768635  4.480499  0.110063   \n",
      "3            318 -1.633434  ...  3.721355  1.276533 -3.757285 -1.268239   \n",
      "4            441 -5.832012  ...  2.245374  0.727490  2.467529 -2.340823   \n",
      "\n",
      "         16        17        18        19  20  age  \n",
      "0 -0.533163  1.246238 -1.323408  3.619443   1   56  \n",
      "1  0.353179 -0.029959  5.050963 -3.702011   1   36  \n",
      "2 -2.417429 -0.773317  4.517770  1.284993   1   63  \n",
      "3 -0.475296  3.284523 -1.190105 -3.562506   1   29  \n",
      "4 -0.903167 -2.233939 -0.549751  2.143471   1   50  \n",
      "\n",
      "[5 rows x 31 columns]\n"
     ]
    }
   ],
   "source": [
    "categorical_columns = ['job', 'industry', 'city', 'state', 'netNew']\n",
    "\n",
    "df['age'] = df['birthdate'].apply(calculate_age)\n",
    "df, label_encoders = apply_label_encoding(df, categorical_columns)\n",
    "\n",
    "print(df.head())"
   ]
  },
  {
   "cell_type": "markdown",
   "metadata": {},
   "source": [
    "Kadangi 20 stulpelis yra target - tas, kurį man reikia išnagrinėti, taigi pirma pasitikrinu, ar šiuo atvėju sprendžiu dvinarę ar daugianarę klasifikaciją."
   ]
  },
  {
   "cell_type": "code",
   "execution_count": 38,
   "metadata": {},
   "outputs": [
    {
     "data": {
      "text/html": [
       "<div>\n",
       "<style scoped>\n",
       "    .dataframe tbody tr th:only-of-type {\n",
       "        vertical-align: middle;\n",
       "    }\n",
       "\n",
       "    .dataframe tbody tr th {\n",
       "        vertical-align: top;\n",
       "    }\n",
       "\n",
       "    .dataframe thead th {\n",
       "        text-align: right;\n",
       "    }\n",
       "</style>\n",
       "<table border=\"1\" class=\"dataframe\">\n",
       "  <thead>\n",
       "    <tr style=\"text-align: right;\">\n",
       "      <th></th>\n",
       "      <th>name</th>\n",
       "      <th>job</th>\n",
       "      <th>birthdate</th>\n",
       "      <th>industry</th>\n",
       "      <th>city</th>\n",
       "      <th>state</th>\n",
       "      <th>postcode</th>\n",
       "      <th>netNew</th>\n",
       "      <th>sales_rounded</th>\n",
       "      <th>0</th>\n",
       "      <th>...</th>\n",
       "      <th>11</th>\n",
       "      <th>12</th>\n",
       "      <th>13</th>\n",
       "      <th>14</th>\n",
       "      <th>15</th>\n",
       "      <th>16</th>\n",
       "      <th>17</th>\n",
       "      <th>18</th>\n",
       "      <th>19</th>\n",
       "      <th>age</th>\n",
       "    </tr>\n",
       "    <tr>\n",
       "      <th>20</th>\n",
       "      <th></th>\n",
       "      <th></th>\n",
       "      <th></th>\n",
       "      <th></th>\n",
       "      <th></th>\n",
       "      <th></th>\n",
       "      <th></th>\n",
       "      <th></th>\n",
       "      <th></th>\n",
       "      <th></th>\n",
       "      <th></th>\n",
       "      <th></th>\n",
       "      <th></th>\n",
       "      <th></th>\n",
       "      <th></th>\n",
       "      <th></th>\n",
       "      <th></th>\n",
       "      <th></th>\n",
       "      <th></th>\n",
       "      <th></th>\n",
       "      <th></th>\n",
       "    </tr>\n",
       "  </thead>\n",
       "  <tbody>\n",
       "    <tr>\n",
       "      <th>0</th>\n",
       "      <td>303</td>\n",
       "      <td>303</td>\n",
       "      <td>303</td>\n",
       "      <td>303</td>\n",
       "      <td>303</td>\n",
       "      <td>303</td>\n",
       "      <td>303</td>\n",
       "      <td>303</td>\n",
       "      <td>303</td>\n",
       "      <td>303</td>\n",
       "      <td>...</td>\n",
       "      <td>303</td>\n",
       "      <td>303</td>\n",
       "      <td>303</td>\n",
       "      <td>303</td>\n",
       "      <td>303</td>\n",
       "      <td>303</td>\n",
       "      <td>303</td>\n",
       "      <td>303</td>\n",
       "      <td>303</td>\n",
       "      <td>303</td>\n",
       "    </tr>\n",
       "    <tr>\n",
       "      <th>1</th>\n",
       "      <td>697</td>\n",
       "      <td>697</td>\n",
       "      <td>697</td>\n",
       "      <td>697</td>\n",
       "      <td>697</td>\n",
       "      <td>697</td>\n",
       "      <td>697</td>\n",
       "      <td>697</td>\n",
       "      <td>697</td>\n",
       "      <td>697</td>\n",
       "      <td>...</td>\n",
       "      <td>697</td>\n",
       "      <td>697</td>\n",
       "      <td>697</td>\n",
       "      <td>697</td>\n",
       "      <td>697</td>\n",
       "      <td>697</td>\n",
       "      <td>697</td>\n",
       "      <td>697</td>\n",
       "      <td>697</td>\n",
       "      <td>697</td>\n",
       "    </tr>\n",
       "  </tbody>\n",
       "</table>\n",
       "<p>2 rows × 30 columns</p>\n",
       "</div>"
      ],
      "text/plain": [
       "    name  job  birthdate  industry  city  state  postcode  netNew  \\\n",
       "20                                                                  \n",
       "0    303  303        303       303   303    303       303     303   \n",
       "1    697  697        697       697   697    697       697     697   \n",
       "\n",
       "    sales_rounded    0  ...   11   12   13   14   15   16   17   18   19  age  \n",
       "20                      ...                                                    \n",
       "0             303  303  ...  303  303  303  303  303  303  303  303  303  303  \n",
       "1             697  697  ...  697  697  697  697  697  697  697  697  697  697  \n",
       "\n",
       "[2 rows x 30 columns]"
      ]
     },
     "execution_count": 38,
     "metadata": {},
     "output_type": "execute_result"
    }
   ],
   "source": [
    "df.groupby('20').count()"
   ]
  },
  {
   "cell_type": "markdown",
   "metadata": {},
   "source": [
    "Matome, jog target įgyja tik 2 reikšmes, taigi toliau spręsime dvinarį prognozavimą. \n",
    "Toliau išmetame aiškiai nereikalingas reikšmes, kuriu diskretizavimas neturėtų prasmės ir naudos."
   ]
  },
  {
   "cell_type": "code",
   "execution_count": 39,
   "metadata": {},
   "outputs": [],
   "source": [
    "df_final = df.drop(columns=['name', 'birthdate', 'postcode', 'state'])"
   ]
  },
  {
   "cell_type": "markdown",
   "metadata": {},
   "source": [
    "Kadangi dirbame ir su skaitines reikšmes turinčias stulepelias, taigi norint užtikrinti stabilų ir 'teisingą' mokymosi procesą, turime jas normalizuoti. Normalizacija padeda užtikrinti, kad visos savybės turėtų panašų mastelį ir neleistų kai kurioms savybėms dominuoti. Jei savybių vertės būtų skirtingos, gradientinio nusileidimo optimizavimo žingsniai bus skirtingo dydžio kiekvienai savybei, todėl gali prireikti daugiau iteracijų, kad modelis pasiektų optimalius parametrus."
   ]
  },
  {
   "cell_type": "code",
   "execution_count": 40,
   "metadata": {},
   "outputs": [
    {
     "name": "stdout",
     "output_type": "stream",
     "text": [
      "   job  industry  city  netNew  sales_rounded         0         1         2  \\\n",
      "0  409         4   553       1            504  8.573927 -2.406370  0.281895   \n",
      "1   40         2   159       1            186 -0.200142 -0.956317 -2.856152   \n",
      "2  402         3   572       0            477 -1.130316  5.719023  4.836986   \n",
      "3  458         3   206       0            318 -1.633434 -1.497685 -0.634001   \n",
      "4  130         1     2       1            441 -5.832012  2.249312  2.308492   \n",
      "\n",
      "          3         4  ...        12        13        14        15        16  \\\n",
      "0  2.922588 -0.679872  ... -2.083372 -0.411697 -0.148949  0.750434 -0.533163   \n",
      "1  1.832573  1.038846  ... -2.689539  1.447976  1.170014 -1.582836  0.353179   \n",
      "2 -4.984347 -0.787706  ...  0.818233 -0.768635  4.480499  0.110063 -2.417429   \n",
      "3  5.566576  1.413566  ...  3.721355  1.276533 -3.757285 -1.268239 -0.475296   \n",
      "4 -3.935920 -0.832775  ...  2.245374  0.727490  2.467529 -2.340823 -0.903167   \n",
      "\n",
      "         17        18        19  20  age  \n",
      "0  1.246238 -1.323408  3.619443   1   56  \n",
      "1 -0.029959  5.050963 -3.702011   1   36  \n",
      "2 -0.773317  4.517770  1.284993   1   63  \n",
      "3  3.284523 -1.190105 -3.562506   1   29  \n",
      "4 -2.233939 -0.549751  2.143471   1   50  \n",
      "\n",
      "[5 rows x 27 columns]\n"
     ]
    }
   ],
   "source": [
    "print(df_final.head())"
   ]
  },
  {
   "cell_type": "code",
   "execution_count": 41,
   "metadata": {},
   "outputs": [
    {
     "name": "stdout",
     "output_type": "stream",
     "text": [
      "   job  industry  city  netNew  sales_rounded         0         1         2  \\\n",
      "0  409         4   553       1       0.012522  2.518325 -0.923804 -0.064042   \n",
      "1   40         2   159       1      -1.656433  0.230919 -0.344317 -1.453416   \n",
      "2  402         3   572       0      -0.129181 -0.011577  2.323361  1.952729   \n",
      "3  458         3   206       0      -0.963659 -0.142741 -0.560665 -0.469556   \n",
      "4  130         1     2       1      -0.318120 -1.237313  0.936754  0.833236   \n",
      "\n",
      "          3         4  ...        12        13        14        15        16  \\\n",
      "0  1.170389 -0.753092  ... -0.554964 -0.450147 -0.058494  0.769201  0.098230   \n",
      "1  0.749527  0.978130  ... -0.834696  1.439692  0.510435 -1.552609  0.514956   \n",
      "2 -1.882530 -0.861710  ...  0.784060 -0.812876  1.938398  0.131975 -0.787683   \n",
      "3  2.191249  1.355576  ...  2.123785  1.265468 -1.614935 -1.239558  0.125437   \n",
      "4 -1.477725 -0.907108  ...  1.442654  0.707519  1.070112 -2.306873 -0.075732   \n",
      "\n",
      "         17        18        19  20       age  \n",
      "0  1.120328 -0.527278  1.757353   1  0.980037  \n",
      "1  0.483917  1.948737 -1.514732   1 -0.459289  \n",
      "2  0.113220  1.741627  0.714047   1  1.483801  \n",
      "3  2.136776 -0.475498 -1.452385   1 -0.963053  \n",
      "4 -0.615160 -0.226764  1.097716   1  0.548239  \n",
      "\n",
      "[5 rows x 27 columns]\n"
     ]
    }
   ],
   "source": [
    "numerical_columns = list(df_final.select_dtypes(include=['int64', 'float64']).columns)\n",
    "\n",
    "# Remove the specified columns from numerical_columns\n",
    "numerical_columns = [col for col in numerical_columns if col not in categorical_columns and col != '20']\n",
    "\n",
    "df_final[numerical_columns] = scaler.fit_transform(df_final[numerical_columns])\n",
    "\n",
    "# Check the transformed DataFrame\n",
    "print(df_final.head())"
   ]
  },
  {
   "cell_type": "markdown",
   "metadata": {},
   "source": [
    "Gilesniai analizei, ar palikti kitus atributus sudarysiu paprastą koreliacijos grafiką ir taip pabandysiu rasti, ar jie gali būti prasmingai panaudoti ir susieti su target reikšme."
   ]
  },
  {
   "cell_type": "code",
   "execution_count": 44,
   "metadata": {},
   "outputs": [
    {
     "name": "stdout",
     "output_type": "stream",
     "text": [
      "sales_rounded    0.044083\n",
      "0                0.516462\n",
      "1                0.525350\n",
      "2                0.637698\n",
      "3                0.346903\n",
      "4                0.082703\n",
      "5                0.433529\n",
      "6                0.487481\n",
      "7                0.343418\n",
      "8                0.053204\n",
      "9                0.623903\n",
      "10               0.637698\n",
      "11               0.623903\n",
      "12               0.240704\n",
      "13               0.082703\n",
      "14               0.351396\n",
      "15               0.066706\n",
      "16               0.271458\n",
      "17               0.516462\n",
      "18               0.395093\n",
      "19               0.433529\n",
      "20               0.198086\n",
      "age              0.048835\n",
      "dtype: float64\n"
     ]
    }
   ],
   "source": [
    "df_corr = df_final.drop(columns=['job', 'industry', 'city', 'netNew'])\n",
    "correlation_matrix = df_corr.corr()\n",
    "\n",
    "# Get the maximum correlation value for each column (excluding self-correlation)\n",
    "max_correlations = correlation_matrix.apply(lambda x: x[x.index != x.name].max())\n",
    "\n",
    "# Display the maximum correlations\n",
    "print(max_correlations)\n"
   ]
  },
  {
   "cell_type": "markdown",
   "metadata": {},
   "source": [
    "Pagal koreliacijos reikšmes panašių reikšmių, t.y. kurios turėtų reikšmę arti vieneto rasti nepavyko tai pagal šį 'testą' tai paliktume visas grupes. Tačiau galima pritaikyti ir labiau sofistikuotus 'features' parinkimo metodus ir stebėti, kokias reikšmes grąžina jie. Taigi toliau pritaikysime chi-square testą kategoriniam duomenim ir taip pat ANOVA skaitinem reikšmėm."
   ]
  },
  {
   "cell_type": "code",
   "execution_count": 49,
   "metadata": {},
   "outputs": [],
   "source": [
    "def chi_square_test(df, target_column, categorical_column):\n",
    "    \"\"\"\n",
    "    Performs Chi-Square test between a target column and multiple categorical columns.\n",
    "    \n",
    "    Parameters:\n",
    "    df (DataFrame): The DataFrame containing the data.\n",
    "    target_column (str): The name of the target column to compare against.\n",
    "    categorical_columns (list): A list of categorical columns to test against the target column.\n",
    "    \n",
    "    Returns:\n",
    "    None: Prints the Chi-Square test results for each column.\n",
    "    \"\"\"\n",
    "    for col in categorical_column:\n",
    "        # Create a contingency table\n",
    "        contingency_table = pd.crosstab(df[target_column], df[col])\n",
    "        \n",
    "        # Perform the Chi-Square test\n",
    "        chi2, p, dof, expected = chi2_contingency(contingency_table)\n",
    "        \n",
    "        # Output the results for each categorical variable\n",
    "        print(f\"\\nChi-Square Test between '{target_column}' and '{col}'\")\n",
    "        print(\"Chi-Square Test Statistic:\", chi2)\n",
    "        print(\"p-value:\", p)\n",
    "        print(\"Degrees of Freedom:\", dof)\n",
    "        \n",
    "        # Interpretation\n",
    "        if p < 0.05:\n",
    "            print(f\"There is a statistically significant association between '{target_column}' and '{col}'.\")\n",
    "        else:\n",
    "            print(f\"There is no statistically significant association between '{target_column}' and '{col}'.\")"
   ]
  },
  {
   "cell_type": "code",
   "execution_count": 50,
   "metadata": {},
   "outputs": [
    {
     "name": "stdout",
     "output_type": "stream",
     "text": [
      "\n",
      "Chi-Square Test between '20' and 'job'\n",
      "Chi-Square Test Statistic: 505.7396700932648\n",
      "p-value: 0.5199760084958769\n",
      "Degrees of Freedom: 508\n",
      "There is no statistically significant association between '20' and 'job'.\n",
      "\n",
      "Chi-Square Test between '20' and 'industry'\n",
      "Chi-Square Test Statistic: 1.0473834721004167\n",
      "p-value: 0.9025279929124473\n",
      "Degrees of Freedom: 4\n",
      "There is no statistically significant association between '20' and 'industry'.\n",
      "\n",
      "Chi-Square Test between '20' and 'city'\n",
      "Chi-Square Test Statistic: 963.6979479870514\n",
      "p-value: 0.4875987306798944\n",
      "Degrees of Freedom: 963\n",
      "There is no statistically significant association between '20' and 'city'.\n",
      "\n",
      "Chi-Square Test between '20' and 'state'\n",
      "Chi-Square Test Statistic: 57.08891696631162\n",
      "p-value: 0.19973744968043197\n",
      "Degrees of Freedom: 49\n",
      "There is no statistically significant association between '20' and 'state'.\n",
      "\n",
      "Chi-Square Test between '20' and 'netNew'\n",
      "Chi-Square Test Statistic: 0.11240974072899343\n",
      "p-value: 0.7374171836332171\n",
      "Degrees of Freedom: 1\n",
      "There is no statistically significant association between '20' and 'netNew'.\n"
     ]
    }
   ],
   "source": [
    "target_column = '20'\n",
    "chi_square_test(df, target_column, categorical_columns)"
   ]
  },
  {
   "cell_type": "markdown",
   "metadata": {},
   "source": [
    "Pagal testo rezultatus būtų galima atsikratyti kategorinių stulpelių, nes pagal jį sąryšio rasti nepavyko. Tačiau dėl įdomumo paliksime visus turimus duomenis. \n",
    "\n",
    "Toliau kadangi turime daugiau nei 20 skirtingų 'feature', pasinaudosime PCA, norėdami sumažinti jų skaičių išlaikant didžiąją dalį informacijos, bet sutaupant resursų."
   ]
  },
  {
   "cell_type": "code",
   "execution_count": 55,
   "metadata": {},
   "outputs": [
    {
     "data": {
      "image/png": "[encoded data removed]",
      "text/plain": [
       "<Figure size 640x480 with 1 Axes>"
      ]
     },
     "metadata": {},
     "output_type": "display_data"
    },
    {
     "name": "stdout",
     "output_type": "stream",
     "text": [
      "        PC1       PC2       PC3       PC4       PC5       PC6       PC7  \\\n",
      "0 -2.493954  1.222658 -2.552174 -1.286274 -0.756247  0.391307 -0.658107   \n",
      "1 -3.273071 -0.433237  1.959666  0.430685  0.181412 -0.794788  2.422106   \n",
      "2  2.852898 -0.964005 -1.499393  0.738405 -1.542886  2.509527 -0.648574   \n",
      "3 -4.620239 -2.392202 -0.397171  0.646971  3.738068  0.902071  1.928014   \n",
      "4  3.768599  0.556040  0.675298 -0.340636  0.351299  0.401302 -0.323739   \n",
      "\n",
      "        PC8       PC9      PC10      PC11      PC12      PC13      PC14  \\\n",
      "0  0.055383  1.288656  0.075921 -0.141320 -0.487452 -0.683163  0.180674   \n",
      "1 -2.097444 -1.273503 -1.468653  0.533027 -0.152575 -1.863157 -0.776613   \n",
      "2 -0.586262  2.141326 -0.311134  0.603257 -0.820704  1.294761  0.313145   \n",
      "3 -0.919941  0.660635 -0.820815  0.868182  1.609712  0.083874  0.842044   \n",
      "4 -1.068540 -0.638825 -2.430897  0.107294  0.796385 -0.939089  0.992274   \n",
      "\n",
      "       PC15      PC16      PC17      PC18      PC19      PC20  \n",
      "0 -0.352653 -0.594658 -2.023113 -0.821683 -0.402131 -0.461677  \n",
      "1 -0.350082  0.989663 -0.447127  0.654841  1.257183  0.098601  \n",
      "2  0.430791  0.161307 -0.563046  1.889736  0.853566 -0.162746  \n",
      "3 -0.024129 -0.009993  0.276333 -0.441494 -0.694142 -0.211684  \n",
      "4 -0.567230  1.118998 -0.004792  1.283789 -0.081038  0.679147  \n"
     ]
    }
   ],
   "source": [
    "features = df_final.drop(columns=['20'])  \n",
    "features_scaled = scaler.fit_transform(features)\n",
    "\n",
    "# Step 2: Apply PCA\n",
    "pca = PCA()\n",
    "pca.fit(features_scaled)\n",
    "\n",
    "# Step 3: Choose the Number of Components Based on Explained Variance\n",
    "cumulative_variance = pca.explained_variance_ratio_.cumsum()\n",
    "plt.plot(range(1, len(cumulative_variance) + 1), cumulative_variance)\n",
    "plt.xlabel('Number of Components')\n",
    "plt.ylabel('Cumulative Explained Variance')\n",
    "plt.title('PCA Explained Variance')\n",
    "plt.grid(True)\n",
    "plt.show()\n",
    "\n",
    "# Choose the number of components that explain the desired amount of variance, e.g., 95%\n",
    "new_n = next(i for i, total_variance in enumerate(cumulative_variance) if total_variance >= 0.95) + 1\n",
    "\n",
    "# Step 4: Transform Data with Selected Components\n",
    "pca = PCA(n_components=new_n)\n",
    "features_pca = pca.fit_transform(features_scaled)\n",
    "\n",
    "# Create a DataFrame with the principal components\n",
    "df_pca = pd.DataFrame(features_pca, columns=[f'PC{i+1}' for i in range(new_n)])\n",
    "\n",
    "# Check the resulting principal components\n",
    "print(df_pca.head())\n"
   ]
  },
  {
   "cell_type": "markdown",
   "metadata": {},
   "source": [
    "Šiame grafike pateikta kaupiamoji PCA (pagrindinių komponentų analizės) paaiškinta dispersija, priklausomai nuo pagrindinių komponentų skaičiaus. Grafikas rodo, kad pradiniai komponentai turi didesnę įtaką bendram duomenų variacijos paaiškinimui, o didėjant komponentų skaičiui, kaupiamoji paaiškinta dispersija artėja prie 100% (1.0), tačiau kreivė palaipsniui lėtėja. \n",
    "\n",
    "\n",
    "Iš grafiko galima daryti išvadą, kad, norint išlaikyti didžiąją dalį informacijos (pvz., 90–95% kaupiamosios dispersijos), nebūtina naudoti visų komponentų – pakaktų pasirinkti apie 15–20 komponentų, nes jie jau apima beveik visą duomenų variaciją.\n",
    "\n",
    "Taigi pagal tai pasirenkame pasilikti 20 komponentų, kad turėtumėme pilnai 'paaiškintą' dispersiją."
   ]
  },
  {
   "cell_type": "code",
   "execution_count": 56,
   "metadata": {},
   "outputs": [
    {
     "name": "stdout",
     "output_type": "stream",
     "text": [
      "        PC1       PC2       PC3       PC4       PC5       PC6       PC7  \\\n",
      "0 -2.493954  1.222658 -2.552174 -1.286274 -0.756247  0.391307 -0.658107   \n",
      "1 -3.273071 -0.433237  1.959666  0.430685  0.181412 -0.794788  2.422106   \n",
      "2  2.852898 -0.964005 -1.499393  0.738405 -1.542886  2.509527 -0.648574   \n",
      "3 -4.620239 -2.392202 -0.397171  0.646971  3.738068  0.902071  1.928014   \n",
      "4  3.768599  0.556040  0.675298 -0.340636  0.351299  0.401302 -0.323739   \n",
      "\n",
      "        PC8       PC9      PC10  ...      PC12      PC13      PC14      PC15  \\\n",
      "0  0.055383  1.288656  0.075921  ... -0.487452 -0.683163  0.180674 -0.352653   \n",
      "1 -2.097444 -1.273503 -1.468653  ... -0.152575 -1.863157 -0.776613 -0.350082   \n",
      "2 -0.586262  2.141326 -0.311134  ... -0.820704  1.294761  0.313145  0.430791   \n",
      "3 -0.919941  0.660635 -0.820815  ...  1.609712  0.083874  0.842044 -0.024129   \n",
      "4 -1.068540 -0.638825 -2.430897  ...  0.796385 -0.939089  0.992274 -0.567230   \n",
      "\n",
      "       PC16      PC17      PC18      PC19      PC20  20  \n",
      "0 -0.594658 -2.023113 -0.821683 -0.402131 -0.461677   1  \n",
      "1  0.989663 -0.447127  0.654841  1.257183  0.098601   1  \n",
      "2  0.161307 -0.563046  1.889736  0.853566 -0.162746   1  \n",
      "3 -0.009993  0.276333 -0.441494 -0.694142 -0.211684   1  \n",
      "4  1.118998 -0.004792  1.283789 -0.081038  0.679147   1  \n",
      "\n",
      "[5 rows x 21 columns]\n"
     ]
    }
   ],
   "source": [
    "df_pca = df_pca.reset_index(drop=True)\n",
    "target = df_final[target_column].reset_index(drop=True)\n",
    "\n",
    "# Add the target column back to the PCA-transformed DataFrame\n",
    "df_pca[target_column] = target\n",
    "\n",
    "# Check the resulting DataFrame\n",
    "print(df_pca.head())\n"
   ]
  },
  {
   "cell_type": "markdown",
   "metadata": {},
   "source": [
    "splitinam duomenis į train ir test"
   ]
  },
  {
   "cell_type": "code",
   "execution_count": 63,
   "metadata": {},
   "outputs": [],
   "source": [
    "X = df_pca.loc[:, df_pca.columns != target_column]\n",
    "y = df_pca.loc[:, df_pca.columns == target_column]"
   ]
  },
  {
   "cell_type": "code",
   "execution_count": 64,
   "metadata": {},
   "outputs": [],
   "source": [
    "y = np.array(y)\n",
    "\n",
    "Y = enc.fit_transform(y).toarray()"
   ]
  },
  {
   "cell_type": "markdown",
   "metadata": {},
   "source": [
    "OneHotEncoder naudojimas yra būtinas klasifikavimo uždaviniuose, kadangi jis verčia kategorinius kintamuosius į binarine vektorių formą, kuri yra reikalinga daugumai mašininio mokymosi algoritmų, siekiant teisingai apdoroti ir atlikti prognozes. Šis kodavimo būdas leidžia modeliui aiškiai atskirti skirtingas klases ir efektyviai mokytis iš kategorinių duomenų, nes kiekvienai klasei priskiriama unikali vektorių kombinacija, o tai padidina spėjimo tikslumą."
   ]
  },
  {
   "cell_type": "code",
   "execution_count": 65,
   "metadata": {},
   "outputs": [
    {
     "name": "stdout",
     "output_type": "stream",
     "text": [
      "(800, 20) (200, 20) (800, 2) (200, 2)\n"
     ]
    }
   ],
   "source": [
    "X_train, X_test, y_train, y_test = train_test_split(X, Y, test_size=0.2, random_state=1)\n",
    "print(X_train.shape, X_test.shape, y_train.shape, y_test.shape)"
   ]
  },
  {
   "cell_type": "markdown",
   "metadata": {},
   "source": [
    "Aprašome modelį, kuris pagal ankščiau pateiktą atsakymą klasifikavimui naudoja sigmoid funkcija, dėl jau minėtų specifikacijų ir kad perdaug nesukomplikuoti modelio pasirenku 3 sluoksnius klasifikavimo užduočiai išspręsti."
   ]
  },
  {
   "cell_type": "code",
   "execution_count": 66,
   "metadata": {},
   "outputs": [],
   "source": [
    "np.random.seed(1337)"
   ]
  },
  {
   "cell_type": "markdown",
   "metadata": {},
   "source": [
    "Apsirašome modelį, kuriuo bandysime prognozuoti klasę"
   ]
  },
  {
   "cell_type": "code",
   "execution_count": 103,
   "metadata": {},
   "outputs": [],
   "source": [
    "class MyModel(Model):\n",
    "    def __init__(self, input_shape, neurons=50, activation=\"relu\"):\n",
    "        super(MyModel, self).__init__()\n",
    "        self.input_layer = InputLayer(input_shape=input_shape)\n",
    "        self.dense1 = Dense(neurons, activation=activation)\n",
    "        self.output_layer = Dense(2, activation=\"sigmoid\")\n",
    "        \n",
    "    def call(self, inputs):\n",
    "        x = self.input_layer(inputs)\n",
    "        x = self.dense1(x)\n",
    "        return self.output_layer(x)\n"
   ]
  },
  {
   "cell_type": "code",
   "execution_count": 81,
   "metadata": {},
   "outputs": [],
   "source": [
    "input_shape = X_train.iloc[0].shape\n",
    "model = MyModel(input_shape)"
   ]
  },
  {
   "cell_type": "markdown",
   "metadata": {},
   "source": [
    "Šiame žingsnyje modelis yra sukompiliuojamas naudojant `model.compile()` funkciją, kuri nurodo pagrindinius parametrus, kaip modelis mokysis ir vertins savo tikslumą. \n",
    "\n",
    "**Optimizatorius** „adam“ (Adaptive Moment Estimation) reguliuoja svorius taip, kad sumažėtų klaidų funkcija, paspartindamas konvergaciją ir pagerindamas mokymosi stabilumą. \n",
    "\n",
    "**Klaidos funkcija** „categorical_crossentropy“ yra naudojama klasifikacijos problemoms su keliais klasės lygiais, padedant modeliui mokytis klasifikuoti į daugiau nei dvi kategorijas. \n",
    "\n",
    "**Vertinimo metrikos** `accuracy`, `precision` ir `recall` leidžia įvertinti modelio veikimą; `accuracy` nurodo bendrą tikslumą, `precision` parodo, kiek prognozuojamų teigiamų klasių tikrai yra teigiamos, o `recall` parodo, kiek iš visų teigiamų pavyzdžių modelis teisingai identifikavo. Šis žingsnis paruošia modelį treniravimui pagal nurodytus kriterijus."
   ]
  },
  {
   "cell_type": "code",
   "execution_count": 85,
   "metadata": {},
   "outputs": [],
   "source": [
    "recall = tf.keras.metrics.Recall()\n",
    "precision = tf.keras.metrics.Precision()\n",
    "\n",
    "model.compile(\n",
    "    optimizer = \"adam\", \n",
    "    loss = \"categorical_crossentropy\", \n",
    "    metrics = [\"accuracy\", precision, recall])"
   ]
  },
  {
   "cell_type": "markdown",
   "metadata": {},
   "source": [
    "Toliau, kad rastume tinkamą modelį ir išvengtume sekme grįsto ieškojimo, galima pasinaudoti GridSearch funkcija, kuri atlieka 'geriausių' hyperparamterų nustatymą, jai padavus tam tikrą 'paieškos lauką'."
   ]
  },
  {
   "cell_type": "code",
   "execution_count": 104,
   "metadata": {},
   "outputs": [
    {
     "name": "stderr",
     "output_type": "stream",
     "text": [
      "[I 2024-11-03 18:38:00,473] A new study created in memory with name: no-name-7f472eda-96bb-4e36-8721-53139f3d56ea\n",
      "[I 2024-11-03 18:38:05,023] Trial 0 finished with value: 0.8849999904632568 and parameters: {'neurons': 150, 'activation': 'tanh', 'optimizer': 'adam', 'batch_size': 100, 'epochs': 200}. Best is trial 0 with value: 0.8849999904632568.\n",
      "[I 2024-11-03 18:38:08,936] Trial 1 finished with value: 0.8399999737739563 and parameters: {'neurons': 100, 'activation': 'relu', 'optimizer': 'sgd', 'batch_size': 150, 'epochs': 200}. Best is trial 0 with value: 0.8849999904632568.\n",
      "[I 2024-11-03 18:38:11,928] Trial 2 finished with value: 0.7950000166893005 and parameters: {'neurons': 50, 'activation': 'tanh', 'optimizer': 'sgd', 'batch_size': 100, 'epochs': 150}. Best is trial 0 with value: 0.8849999904632568.\n",
      "[I 2024-11-03 18:38:14,115] Trial 3 finished with value: 0.8700000047683716 and parameters: {'neurons': 150, 'activation': 'relu', 'optimizer': 'adam', 'batch_size': 100, 'epochs': 100}. Best is trial 0 with value: 0.8849999904632568.\n",
      "[I 2024-11-03 18:38:15,270] Trial 4 finished with value: 0.7799999713897705 and parameters: {'neurons': 50, 'activation': 'relu', 'optimizer': 'sgd', 'batch_size': 100, 'epochs': 50}. Best is trial 0 with value: 0.8849999904632568.\n",
      "[I 2024-11-03 18:38:20,286] Trial 5 finished with value: 0.875 and parameters: {'neurons': 150, 'activation': 'tanh', 'optimizer': 'adam', 'batch_size': 50, 'epochs': 200}. Best is trial 0 with value: 0.8849999904632568.\n",
      "[I 2024-11-03 18:38:24,193] Trial 6 finished with value: 0.7900000214576721 and parameters: {'neurons': 50, 'activation': 'tanh', 'optimizer': 'sgd', 'batch_size': 150, 'epochs': 200}. Best is trial 0 with value: 0.8849999904632568.\n",
      "[I 2024-11-03 18:38:25,584] Trial 7 finished with value: 0.8299999833106995 and parameters: {'neurons': 50, 'activation': 'tanh', 'optimizer': 'adam', 'batch_size': 50, 'epochs': 50}. Best is trial 0 with value: 0.8849999904632568.\n",
      "[I 2024-11-03 18:38:26,905] Trial 8 finished with value: 0.7850000262260437 and parameters: {'neurons': 50, 'activation': 'relu', 'optimizer': 'sgd', 'batch_size': 50, 'epochs': 50}. Best is trial 0 with value: 0.8849999904632568.\n",
      "[I 2024-11-03 18:38:31,330] Trial 9 finished with value: 0.824999988079071 and parameters: {'neurons': 50, 'activation': 'relu', 'optimizer': 'sgd', 'batch_size': 50, 'epochs': 200}. Best is trial 0 with value: 0.8849999904632568.\n"
     ]
    },
    {
     "name": "stdout",
     "output_type": "stream",
     "text": [
      "Best hyperparameters: {'neurons': 150, 'activation': 'tanh', 'optimizer': 'adam', 'batch_size': 100, 'epochs': 200}\n"
     ]
    }
   ],
   "source": [
    "def objective(trial):\n",
    "    # Suggest values for hyperparameters\n",
    "    neurons = trial.suggest_int('neurons', 50, 150, step=50)\n",
    "    activation = trial.suggest_categorical('activation', ['relu', 'tanh'])\n",
    "    optimizer_name = trial.suggest_categorical('optimizer', ['adam', 'sgd'])\n",
    "    batch_size = trial.suggest_int('batch_size', 50, 150, step=50)\n",
    "    epochs = trial.suggest_int('epochs', 50, 200, step=50)\n",
    "\n",
    "    model = MyModel(input_shape=X_train.shape[1:], neurons=neurons, activation=activation)\n",
    "    model.compile(optimizer=optimizer_name, loss=\"categorical_crossentropy\", metrics=[\"accuracy\"])\n",
    "\n",
    "    history = model.fit(X_train, y_train, validation_data=(X_test, y_test),\n",
    "                        epochs=epochs, batch_size=batch_size, verbose=0)\n",
    "    val_accuracy = max(history.history['val_accuracy'])\n",
    "    return val_accuracy\n",
    "\n",
    "study = optuna.create_study(direction=\"maximize\")\n",
    "study.optimize(objective, n_trials=10)\n",
    "\n",
    "print(\"Best hyperparameters:\", study.best_params)\n"
   ]
  },
  {
   "cell_type": "markdown",
   "metadata": {},
   "source": [
    "Pasinaudojus optuna biblioteka ir tam tikrais pirminias skaičiavimais gavome, jog 'geriausio' siūlomo modelio 'accuracy' yra 0.88, kas galima sakyti, jog yra gana geras rezultatas. Taip pat svarbu pastebėti, jog 'pažaidus' su hyperparametrų 'paieškos sistema' būtų galima atrasti ir geresnių rezultatų."
   ]
  },
  {
   "cell_type": "code",
   "execution_count": 105,
   "metadata": {},
   "outputs": [
    {
     "name": "stdout",
     "output_type": "stream",
     "text": [
      "Best hyperparameters found by Optuna: {'neurons': 150, 'activation': 'tanh', 'optimizer': 'adam', 'batch_size': 100, 'epochs': 200}\n",
      "Epoch 1/200\n",
      "8/8 [==============================] - 0s 16ms/step - loss: 0.7451 - accuracy: 0.5013 - val_loss: 0.6668 - val_accuracy: 0.5900\n",
      "Epoch 2/200\n",
      "8/8 [==============================] - 0s 3ms/step - loss: 0.6246 - accuracy: 0.6500 - val_loss: 0.6026 - val_accuracy: 0.6800\n",
      "Epoch 3/200\n",
      "8/8 [==============================] - 0s 3ms/step - loss: 0.5761 - accuracy: 0.7025 - val_loss: 0.5762 - val_accuracy: 0.7250\n",
      "Epoch 4/200\n",
      "8/8 [==============================] - 0s 3ms/step - loss: 0.5508 - accuracy: 0.7325 - val_loss: 0.5586 - val_accuracy: 0.7600\n",
      "Epoch 5/200\n",
      "8/8 [==============================] - 0s 3ms/step - loss: 0.5363 - accuracy: 0.7325 - val_loss: 0.5410 - val_accuracy: 0.7700\n",
      "Epoch 6/200\n",
      "8/8 [==============================] - 0s 3ms/step - loss: 0.5254 - accuracy: 0.7400 - val_loss: 0.5340 - val_accuracy: 0.7750\n",
      "Epoch 7/200\n",
      "8/8 [==============================] - 0s 3ms/step - loss: 0.5200 - accuracy: 0.7412 - val_loss: 0.5237 - val_accuracy: 0.7750\n",
      "Epoch 8/200\n",
      "8/8 [==============================] - 0s 3ms/step - loss: 0.5161 - accuracy: 0.7462 - val_loss: 0.5217 - val_accuracy: 0.7650\n",
      "Epoch 9/200\n",
      "8/8 [==============================] - 0s 3ms/step - loss: 0.5137 - accuracy: 0.7437 - val_loss: 0.5127 - val_accuracy: 0.7750\n",
      "Epoch 10/200\n",
      "8/8 [==============================] - 0s 3ms/step - loss: 0.5116 - accuracy: 0.7487 - val_loss: 0.5116 - val_accuracy: 0.7800\n",
      "Epoch 11/200\n",
      "8/8 [==============================] - 0s 3ms/step - loss: 0.5100 - accuracy: 0.7437 - val_loss: 0.5091 - val_accuracy: 0.7650\n",
      "Epoch 12/200\n",
      "8/8 [==============================] - 0s 3ms/step - loss: 0.5077 - accuracy: 0.7475 - val_loss: 0.5071 - val_accuracy: 0.7800\n",
      "Epoch 13/200\n",
      "8/8 [==============================] - 0s 3ms/step - loss: 0.5069 - accuracy: 0.7450 - val_loss: 0.5107 - val_accuracy: 0.7800\n",
      "Epoch 14/200\n",
      "8/8 [==============================] - 0s 3ms/step - loss: 0.5041 - accuracy: 0.7412 - val_loss: 0.5091 - val_accuracy: 0.7750\n",
      "Epoch 15/200\n",
      "8/8 [==============================] - 0s 3ms/step - loss: 0.5027 - accuracy: 0.7475 - val_loss: 0.5085 - val_accuracy: 0.7850\n",
      "Epoch 16/200\n",
      "8/8 [==============================] - 0s 3ms/step - loss: 0.5014 - accuracy: 0.7487 - val_loss: 0.5025 - val_accuracy: 0.7850\n",
      "Epoch 17/200\n",
      "8/8 [==============================] - 0s 3ms/step - loss: 0.5005 - accuracy: 0.7563 - val_loss: 0.5050 - val_accuracy: 0.7800\n",
      "Epoch 18/200\n",
      "8/8 [==============================] - 0s 3ms/step - loss: 0.4972 - accuracy: 0.7563 - val_loss: 0.5091 - val_accuracy: 0.7700\n",
      "Epoch 19/200\n",
      "8/8 [==============================] - 0s 3ms/step - loss: 0.4952 - accuracy: 0.7550 - val_loss: 0.5081 - val_accuracy: 0.7800\n",
      "Epoch 20/200\n",
      "8/8 [==============================] - 0s 3ms/step - loss: 0.4935 - accuracy: 0.7550 - val_loss: 0.5075 - val_accuracy: 0.7750\n",
      "Epoch 21/200\n",
      "8/8 [==============================] - 0s 3ms/step - loss: 0.4918 - accuracy: 0.7625 - val_loss: 0.5032 - val_accuracy: 0.7800\n",
      "Epoch 22/200\n",
      "8/8 [==============================] - 0s 3ms/step - loss: 0.4887 - accuracy: 0.7625 - val_loss: 0.5005 - val_accuracy: 0.7800\n",
      "Epoch 23/200\n",
      "8/8 [==============================] - 0s 3ms/step - loss: 0.4872 - accuracy: 0.7638 - val_loss: 0.5040 - val_accuracy: 0.7850\n",
      "Epoch 24/200\n",
      "8/8 [==============================] - 0s 5ms/step - loss: 0.4848 - accuracy: 0.7688 - val_loss: 0.5032 - val_accuracy: 0.7700\n",
      "Epoch 25/200\n",
      "8/8 [==============================] - 0s 4ms/step - loss: 0.4835 - accuracy: 0.7625 - val_loss: 0.5000 - val_accuracy: 0.7800\n",
      "Epoch 26/200\n",
      "8/8 [==============================] - 0s 4ms/step - loss: 0.4810 - accuracy: 0.7650 - val_loss: 0.4985 - val_accuracy: 0.7900\n",
      "Epoch 27/200\n",
      "8/8 [==============================] - 0s 3ms/step - loss: 0.4790 - accuracy: 0.7700 - val_loss: 0.5017 - val_accuracy: 0.7850\n",
      "Epoch 28/200\n",
      "8/8 [==============================] - 0s 3ms/step - loss: 0.4763 - accuracy: 0.7675 - val_loss: 0.4998 - val_accuracy: 0.7750\n",
      "Epoch 29/200\n",
      "8/8 [==============================] - 0s 3ms/step - loss: 0.4732 - accuracy: 0.7713 - val_loss: 0.5002 - val_accuracy: 0.7800\n",
      "Epoch 30/200\n",
      "8/8 [==============================] - 0s 3ms/step - loss: 0.4694 - accuracy: 0.7775 - val_loss: 0.4975 - val_accuracy: 0.7750\n",
      "Epoch 31/200\n",
      "8/8 [==============================] - 0s 3ms/step - loss: 0.4667 - accuracy: 0.7825 - val_loss: 0.4975 - val_accuracy: 0.7750\n",
      "Epoch 32/200\n",
      "8/8 [==============================] - 0s 3ms/step - loss: 0.4636 - accuracy: 0.7800 - val_loss: 0.4926 - val_accuracy: 0.7800\n",
      "Epoch 33/200\n",
      "8/8 [==============================] - 0s 3ms/step - loss: 0.4604 - accuracy: 0.7837 - val_loss: 0.4953 - val_accuracy: 0.7800\n",
      "Epoch 34/200\n",
      "8/8 [==============================] - 0s 4ms/step - loss: 0.4573 - accuracy: 0.7912 - val_loss: 0.4931 - val_accuracy: 0.7850\n",
      "Epoch 35/200\n",
      "8/8 [==============================] - 0s 3ms/step - loss: 0.4547 - accuracy: 0.7887 - val_loss: 0.4888 - val_accuracy: 0.7950\n",
      "Epoch 36/200\n",
      "8/8 [==============================] - 0s 3ms/step - loss: 0.4506 - accuracy: 0.7962 - val_loss: 0.4908 - val_accuracy: 0.7950\n",
      "Epoch 37/200\n",
      "8/8 [==============================] - 0s 3ms/step - loss: 0.4453 - accuracy: 0.7962 - val_loss: 0.4924 - val_accuracy: 0.7850\n",
      "Epoch 38/200\n",
      "8/8 [==============================] - 0s 3ms/step - loss: 0.4433 - accuracy: 0.7987 - val_loss: 0.4866 - val_accuracy: 0.8100\n",
      "Epoch 39/200\n",
      "8/8 [==============================] - 0s 3ms/step - loss: 0.4391 - accuracy: 0.8012 - val_loss: 0.4892 - val_accuracy: 0.7850\n",
      "Epoch 40/200\n",
      "8/8 [==============================] - 0s 3ms/step - loss: 0.4347 - accuracy: 0.8025 - val_loss: 0.4847 - val_accuracy: 0.7900\n",
      "Epoch 41/200\n",
      "8/8 [==============================] - 0s 3ms/step - loss: 0.4305 - accuracy: 0.8087 - val_loss: 0.4893 - val_accuracy: 0.8000\n",
      "Epoch 42/200\n",
      "8/8 [==============================] - 0s 3ms/step - loss: 0.4271 - accuracy: 0.8138 - val_loss: 0.4884 - val_accuracy: 0.7900\n",
      "Epoch 43/200\n",
      "8/8 [==============================] - 0s 3ms/step - loss: 0.4235 - accuracy: 0.8075 - val_loss: 0.4775 - val_accuracy: 0.8000\n",
      "Epoch 44/200\n",
      "8/8 [==============================] - 0s 3ms/step - loss: 0.4178 - accuracy: 0.8125 - val_loss: 0.4724 - val_accuracy: 0.8000\n",
      "Epoch 45/200\n",
      "8/8 [==============================] - 0s 3ms/step - loss: 0.4139 - accuracy: 0.8175 - val_loss: 0.4744 - val_accuracy: 0.8050\n",
      "Epoch 46/200\n",
      "8/8 [==============================] - 0s 3ms/step - loss: 0.4088 - accuracy: 0.8200 - val_loss: 0.4753 - val_accuracy: 0.8050\n",
      "Epoch 47/200\n",
      "8/8 [==============================] - 0s 4ms/step - loss: 0.4044 - accuracy: 0.8238 - val_loss: 0.4723 - val_accuracy: 0.8000\n",
      "Epoch 48/200\n",
      "8/8 [==============================] - 0s 3ms/step - loss: 0.4003 - accuracy: 0.8288 - val_loss: 0.4687 - val_accuracy: 0.7900\n",
      "Epoch 49/200\n",
      "8/8 [==============================] - 0s 3ms/step - loss: 0.3953 - accuracy: 0.8338 - val_loss: 0.4660 - val_accuracy: 0.7950\n",
      "Epoch 50/200\n",
      "8/8 [==============================] - 0s 3ms/step - loss: 0.3909 - accuracy: 0.8338 - val_loss: 0.4698 - val_accuracy: 0.7900\n",
      "Epoch 51/200\n",
      "8/8 [==============================] - 0s 3ms/step - loss: 0.3851 - accuracy: 0.8338 - val_loss: 0.4641 - val_accuracy: 0.8050\n",
      "Epoch 52/200\n",
      "8/8 [==============================] - 0s 3ms/step - loss: 0.3811 - accuracy: 0.8462 - val_loss: 0.4610 - val_accuracy: 0.8100\n",
      "Epoch 53/200\n",
      "8/8 [==============================] - 0s 3ms/step - loss: 0.3765 - accuracy: 0.8425 - val_loss: 0.4518 - val_accuracy: 0.8050\n",
      "Epoch 54/200\n",
      "8/8 [==============================] - 0s 3ms/step - loss: 0.3708 - accuracy: 0.8500 - val_loss: 0.4554 - val_accuracy: 0.8000\n",
      "Epoch 55/200\n",
      "8/8 [==============================] - 0s 9ms/step - loss: 0.3668 - accuracy: 0.8550 - val_loss: 0.4604 - val_accuracy: 0.7900\n",
      "Epoch 56/200\n",
      "8/8 [==============================] - 0s 4ms/step - loss: 0.3620 - accuracy: 0.8487 - val_loss: 0.4618 - val_accuracy: 0.8000\n",
      "Epoch 57/200\n",
      "8/8 [==============================] - 0s 3ms/step - loss: 0.3576 - accuracy: 0.8637 - val_loss: 0.4469 - val_accuracy: 0.8050\n",
      "Epoch 58/200\n",
      "8/8 [==============================] - 0s 3ms/step - loss: 0.3527 - accuracy: 0.8625 - val_loss: 0.4468 - val_accuracy: 0.8050\n",
      "Epoch 59/200\n",
      "8/8 [==============================] - 0s 3ms/step - loss: 0.3483 - accuracy: 0.8612 - val_loss: 0.4436 - val_accuracy: 0.8000\n",
      "Epoch 60/200\n",
      "8/8 [==============================] - 0s 3ms/step - loss: 0.3440 - accuracy: 0.8650 - val_loss: 0.4466 - val_accuracy: 0.8000\n",
      "Epoch 61/200\n",
      "8/8 [==============================] - 0s 3ms/step - loss: 0.3390 - accuracy: 0.8675 - val_loss: 0.4413 - val_accuracy: 0.8100\n",
      "Epoch 62/200\n",
      "8/8 [==============================] - 0s 3ms/step - loss: 0.3341 - accuracy: 0.8763 - val_loss: 0.4316 - val_accuracy: 0.8100\n",
      "Epoch 63/200\n",
      "8/8 [==============================] - 0s 3ms/step - loss: 0.3286 - accuracy: 0.8838 - val_loss: 0.4382 - val_accuracy: 0.8050\n",
      "Epoch 64/200\n",
      "8/8 [==============================] - 0s 3ms/step - loss: 0.3242 - accuracy: 0.8800 - val_loss: 0.4370 - val_accuracy: 0.8050\n",
      "Epoch 65/200\n",
      "8/8 [==============================] - 0s 3ms/step - loss: 0.3193 - accuracy: 0.8825 - val_loss: 0.4326 - val_accuracy: 0.8150\n",
      "Epoch 66/200\n",
      "8/8 [==============================] - 0s 3ms/step - loss: 0.3152 - accuracy: 0.8875 - val_loss: 0.4314 - val_accuracy: 0.8150\n",
      "Epoch 67/200\n",
      "8/8 [==============================] - 0s 4ms/step - loss: 0.3119 - accuracy: 0.8875 - val_loss: 0.4342 - val_accuracy: 0.8100\n",
      "Epoch 68/200\n",
      "8/8 [==============================] - 0s 3ms/step - loss: 0.3066 - accuracy: 0.8988 - val_loss: 0.4189 - val_accuracy: 0.8250\n",
      "Epoch 69/200\n",
      "8/8 [==============================] - 0s 3ms/step - loss: 0.3025 - accuracy: 0.9000 - val_loss: 0.4209 - val_accuracy: 0.8200\n",
      "Epoch 70/200\n",
      "8/8 [==============================] - 0s 3ms/step - loss: 0.2977 - accuracy: 0.8963 - val_loss: 0.4213 - val_accuracy: 0.8200\n",
      "Epoch 71/200\n",
      "8/8 [==============================] - 0s 3ms/step - loss: 0.2942 - accuracy: 0.9025 - val_loss: 0.4167 - val_accuracy: 0.8250\n",
      "Epoch 72/200\n",
      "8/8 [==============================] - 0s 3ms/step - loss: 0.2896 - accuracy: 0.9025 - val_loss: 0.4157 - val_accuracy: 0.8300\n",
      "Epoch 73/200\n",
      "8/8 [==============================] - 0s 3ms/step - loss: 0.2844 - accuracy: 0.9075 - val_loss: 0.4220 - val_accuracy: 0.8150\n",
      "Epoch 74/200\n",
      "8/8 [==============================] - 0s 3ms/step - loss: 0.2806 - accuracy: 0.9062 - val_loss: 0.4215 - val_accuracy: 0.8200\n",
      "Epoch 75/200\n",
      "8/8 [==============================] - 0s 3ms/step - loss: 0.2762 - accuracy: 0.9087 - val_loss: 0.4151 - val_accuracy: 0.8150\n",
      "Epoch 76/200\n",
      "8/8 [==============================] - 0s 3ms/step - loss: 0.2734 - accuracy: 0.9100 - val_loss: 0.4057 - val_accuracy: 0.8300\n",
      "Epoch 77/200\n",
      "8/8 [==============================] - 0s 3ms/step - loss: 0.2684 - accuracy: 0.9162 - val_loss: 0.4036 - val_accuracy: 0.8300\n",
      "Epoch 78/200\n",
      "8/8 [==============================] - 0s 3ms/step - loss: 0.2648 - accuracy: 0.9137 - val_loss: 0.4089 - val_accuracy: 0.8350\n",
      "Epoch 79/200\n",
      "8/8 [==============================] - 0s 3ms/step - loss: 0.2606 - accuracy: 0.9150 - val_loss: 0.4038 - val_accuracy: 0.8400\n",
      "Epoch 80/200\n",
      "8/8 [==============================] - 0s 3ms/step - loss: 0.2572 - accuracy: 0.9175 - val_loss: 0.4048 - val_accuracy: 0.8300\n",
      "Epoch 81/200\n",
      "8/8 [==============================] - 0s 3ms/step - loss: 0.2529 - accuracy: 0.9187 - val_loss: 0.4009 - val_accuracy: 0.8300\n",
      "Epoch 82/200\n",
      "8/8 [==============================] - 0s 3ms/step - loss: 0.2485 - accuracy: 0.9212 - val_loss: 0.4004 - val_accuracy: 0.8350\n",
      "Epoch 83/200\n",
      "8/8 [==============================] - 0s 3ms/step - loss: 0.2439 - accuracy: 0.9225 - val_loss: 0.4012 - val_accuracy: 0.8400\n",
      "Epoch 84/200\n",
      "8/8 [==============================] - 0s 3ms/step - loss: 0.2401 - accuracy: 0.9212 - val_loss: 0.3960 - val_accuracy: 0.8400\n",
      "Epoch 85/200\n",
      "8/8 [==============================] - 0s 7ms/step - loss: 0.2367 - accuracy: 0.9250 - val_loss: 0.3999 - val_accuracy: 0.8300\n",
      "Epoch 86/200\n",
      "8/8 [==============================] - 0s 3ms/step - loss: 0.2328 - accuracy: 0.9300 - val_loss: 0.3911 - val_accuracy: 0.8400\n",
      "Epoch 87/200\n",
      "8/8 [==============================] - 0s 3ms/step - loss: 0.2298 - accuracy: 0.9287 - val_loss: 0.3892 - val_accuracy: 0.8400\n",
      "Epoch 88/200\n",
      "8/8 [==============================] - 0s 3ms/step - loss: 0.2260 - accuracy: 0.9300 - val_loss: 0.3931 - val_accuracy: 0.8350\n",
      "Epoch 89/200\n",
      "8/8 [==============================] - 0s 3ms/step - loss: 0.2224 - accuracy: 0.9312 - val_loss: 0.3918 - val_accuracy: 0.8400\n",
      "Epoch 90/200\n",
      "8/8 [==============================] - 0s 3ms/step - loss: 0.2184 - accuracy: 0.9337 - val_loss: 0.3895 - val_accuracy: 0.8350\n",
      "Epoch 91/200\n",
      "8/8 [==============================] - 0s 3ms/step - loss: 0.2148 - accuracy: 0.9413 - val_loss: 0.3885 - val_accuracy: 0.8350\n",
      "Epoch 92/200\n",
      "8/8 [==============================] - 0s 3ms/step - loss: 0.2116 - accuracy: 0.9375 - val_loss: 0.3820 - val_accuracy: 0.8350\n",
      "Epoch 93/200\n",
      "8/8 [==============================] - 0s 3ms/step - loss: 0.2081 - accuracy: 0.9388 - val_loss: 0.3815 - val_accuracy: 0.8400\n",
      "Epoch 94/200\n",
      "8/8 [==============================] - 0s 3ms/step - loss: 0.2048 - accuracy: 0.9425 - val_loss: 0.3863 - val_accuracy: 0.8350\n",
      "Epoch 95/200\n",
      "8/8 [==============================] - 0s 3ms/step - loss: 0.2028 - accuracy: 0.9362 - val_loss: 0.3835 - val_accuracy: 0.8300\n",
      "Epoch 96/200\n",
      "8/8 [==============================] - 0s 3ms/step - loss: 0.1996 - accuracy: 0.9413 - val_loss: 0.3844 - val_accuracy: 0.8350\n",
      "Epoch 97/200\n",
      "8/8 [==============================] - 0s 3ms/step - loss: 0.1953 - accuracy: 0.9475 - val_loss: 0.3767 - val_accuracy: 0.8400\n",
      "Epoch 98/200\n",
      "8/8 [==============================] - 0s 3ms/step - loss: 0.1924 - accuracy: 0.9500 - val_loss: 0.3797 - val_accuracy: 0.8300\n",
      "Epoch 99/200\n",
      "8/8 [==============================] - 0s 3ms/step - loss: 0.1896 - accuracy: 0.9450 - val_loss: 0.3757 - val_accuracy: 0.8300\n",
      "Epoch 100/200\n",
      "8/8 [==============================] - 0s 3ms/step - loss: 0.1851 - accuracy: 0.9550 - val_loss: 0.3786 - val_accuracy: 0.8300\n",
      "Epoch 101/200\n",
      "8/8 [==============================] - 0s 3ms/step - loss: 0.1819 - accuracy: 0.9538 - val_loss: 0.3754 - val_accuracy: 0.8300\n",
      "Epoch 102/200\n",
      "8/8 [==============================] - 0s 3ms/step - loss: 0.1787 - accuracy: 0.9513 - val_loss: 0.3736 - val_accuracy: 0.8350\n",
      "Epoch 103/200\n",
      "8/8 [==============================] - 0s 3ms/step - loss: 0.1761 - accuracy: 0.9575 - val_loss: 0.3751 - val_accuracy: 0.8350\n",
      "Epoch 104/200\n",
      "8/8 [==============================] - 0s 3ms/step - loss: 0.1735 - accuracy: 0.9600 - val_loss: 0.3737 - val_accuracy: 0.8400\n",
      "Epoch 105/200\n",
      "8/8 [==============================] - 0s 3ms/step - loss: 0.1696 - accuracy: 0.9625 - val_loss: 0.3732 - val_accuracy: 0.8300\n",
      "Epoch 106/200\n",
      "8/8 [==============================] - 0s 3ms/step - loss: 0.1675 - accuracy: 0.9613 - val_loss: 0.3771 - val_accuracy: 0.8300\n",
      "Epoch 107/200\n",
      "8/8 [==============================] - 0s 3ms/step - loss: 0.1645 - accuracy: 0.9650 - val_loss: 0.3686 - val_accuracy: 0.8350\n",
      "Epoch 108/200\n",
      "8/8 [==============================] - 0s 3ms/step - loss: 0.1615 - accuracy: 0.9663 - val_loss: 0.3659 - val_accuracy: 0.8350\n",
      "Epoch 109/200\n",
      "8/8 [==============================] - 0s 3ms/step - loss: 0.1587 - accuracy: 0.9650 - val_loss: 0.3651 - val_accuracy: 0.8400\n",
      "Epoch 110/200\n",
      "8/8 [==============================] - 0s 3ms/step - loss: 0.1560 - accuracy: 0.9675 - val_loss: 0.3685 - val_accuracy: 0.8350\n",
      "Epoch 111/200\n",
      "8/8 [==============================] - 0s 3ms/step - loss: 0.1528 - accuracy: 0.9700 - val_loss: 0.3684 - val_accuracy: 0.8300\n",
      "Epoch 112/200\n",
      "8/8 [==============================] - 0s 3ms/step - loss: 0.1502 - accuracy: 0.9688 - val_loss: 0.3658 - val_accuracy: 0.8300\n",
      "Epoch 113/200\n",
      "8/8 [==============================] - 0s 3ms/step - loss: 0.1476 - accuracy: 0.9737 - val_loss: 0.3664 - val_accuracy: 0.8300\n",
      "Epoch 114/200\n",
      "8/8 [==============================] - 0s 4ms/step - loss: 0.1454 - accuracy: 0.9712 - val_loss: 0.3666 - val_accuracy: 0.8350\n",
      "Epoch 115/200\n",
      "8/8 [==============================] - 0s 5ms/step - loss: 0.1424 - accuracy: 0.9725 - val_loss: 0.3679 - val_accuracy: 0.8350\n",
      "Epoch 116/200\n",
      "8/8 [==============================] - 0s 3ms/step - loss: 0.1399 - accuracy: 0.9725 - val_loss: 0.3638 - val_accuracy: 0.8300\n",
      "Epoch 117/200\n",
      "8/8 [==============================] - 0s 3ms/step - loss: 0.1375 - accuracy: 0.9725 - val_loss: 0.3666 - val_accuracy: 0.8350\n",
      "Epoch 118/200\n",
      "8/8 [==============================] - 0s 3ms/step - loss: 0.1349 - accuracy: 0.9725 - val_loss: 0.3650 - val_accuracy: 0.8350\n",
      "Epoch 119/200\n",
      "8/8 [==============================] - 0s 3ms/step - loss: 0.1324 - accuracy: 0.9762 - val_loss: 0.3624 - val_accuracy: 0.8350\n",
      "Epoch 120/200\n",
      "8/8 [==============================] - 0s 3ms/step - loss: 0.1305 - accuracy: 0.9787 - val_loss: 0.3630 - val_accuracy: 0.8400\n",
      "Epoch 121/200\n",
      "8/8 [==============================] - 0s 3ms/step - loss: 0.1276 - accuracy: 0.9787 - val_loss: 0.3634 - val_accuracy: 0.8400\n",
      "Epoch 122/200\n",
      "8/8 [==============================] - 0s 3ms/step - loss: 0.1260 - accuracy: 0.9787 - val_loss: 0.3580 - val_accuracy: 0.8300\n",
      "Epoch 123/200\n",
      "8/8 [==============================] - 0s 3ms/step - loss: 0.1232 - accuracy: 0.9787 - val_loss: 0.3588 - val_accuracy: 0.8400\n",
      "Epoch 124/200\n",
      "8/8 [==============================] - 0s 3ms/step - loss: 0.1215 - accuracy: 0.9775 - val_loss: 0.3611 - val_accuracy: 0.8350\n",
      "Epoch 125/200\n",
      "8/8 [==============================] - 0s 3ms/step - loss: 0.1192 - accuracy: 0.9800 - val_loss: 0.3671 - val_accuracy: 0.8400\n",
      "Epoch 126/200\n",
      "8/8 [==============================] - 0s 3ms/step - loss: 0.1168 - accuracy: 0.9812 - val_loss: 0.3622 - val_accuracy: 0.8400\n",
      "Epoch 127/200\n",
      "8/8 [==============================] - 0s 3ms/step - loss: 0.1145 - accuracy: 0.9800 - val_loss: 0.3571 - val_accuracy: 0.8450\n",
      "Epoch 128/200\n",
      "8/8 [==============================] - 0s 3ms/step - loss: 0.1124 - accuracy: 0.9812 - val_loss: 0.3588 - val_accuracy: 0.8450\n",
      "Epoch 129/200\n",
      "8/8 [==============================] - 0s 3ms/step - loss: 0.1107 - accuracy: 0.9850 - val_loss: 0.3579 - val_accuracy: 0.8450\n",
      "Epoch 130/200\n",
      "8/8 [==============================] - 0s 3ms/step - loss: 0.1086 - accuracy: 0.9850 - val_loss: 0.3585 - val_accuracy: 0.8450\n",
      "Epoch 131/200\n",
      "8/8 [==============================] - 0s 3ms/step - loss: 0.1063 - accuracy: 0.9862 - val_loss: 0.3584 - val_accuracy: 0.8500\n",
      "Epoch 132/200\n",
      "8/8 [==============================] - 0s 3ms/step - loss: 0.1047 - accuracy: 0.9837 - val_loss: 0.3591 - val_accuracy: 0.8450\n",
      "Epoch 133/200\n",
      "8/8 [==============================] - 0s 3ms/step - loss: 0.1029 - accuracy: 0.9875 - val_loss: 0.3601 - val_accuracy: 0.8450\n",
      "Epoch 134/200\n",
      "8/8 [==============================] - 0s 3ms/step - loss: 0.1009 - accuracy: 0.9887 - val_loss: 0.3618 - val_accuracy: 0.8450\n",
      "Epoch 135/200\n",
      "8/8 [==============================] - 0s 3ms/step - loss: 0.0993 - accuracy: 0.9875 - val_loss: 0.3574 - val_accuracy: 0.8450\n",
      "Epoch 136/200\n",
      "8/8 [==============================] - 0s 3ms/step - loss: 0.0979 - accuracy: 0.9887 - val_loss: 0.3558 - val_accuracy: 0.8550\n",
      "Epoch 137/200\n",
      "8/8 [==============================] - 0s 3ms/step - loss: 0.0961 - accuracy: 0.9887 - val_loss: 0.3553 - val_accuracy: 0.8500\n",
      "Epoch 138/200\n",
      "8/8 [==============================] - 0s 3ms/step - loss: 0.0935 - accuracy: 0.9900 - val_loss: 0.3602 - val_accuracy: 0.8500\n",
      "Epoch 139/200\n",
      "8/8 [==============================] - 0s 3ms/step - loss: 0.0920 - accuracy: 0.9912 - val_loss: 0.3652 - val_accuracy: 0.8550\n",
      "Epoch 140/200\n",
      "8/8 [==============================] - 0s 3ms/step - loss: 0.0903 - accuracy: 0.9900 - val_loss: 0.3622 - val_accuracy: 0.8450\n",
      "Epoch 141/200\n",
      "8/8 [==============================] - 0s 6ms/step - loss: 0.0889 - accuracy: 0.9925 - val_loss: 0.3613 - val_accuracy: 0.8500\n",
      "Epoch 142/200\n",
      "8/8 [==============================] - 0s 3ms/step - loss: 0.0870 - accuracy: 0.9912 - val_loss: 0.3569 - val_accuracy: 0.8500\n",
      "Epoch 143/200\n",
      "8/8 [==============================] - 0s 3ms/step - loss: 0.0856 - accuracy: 0.9937 - val_loss: 0.3549 - val_accuracy: 0.8500\n",
      "Epoch 144/200\n",
      "8/8 [==============================] - 0s 3ms/step - loss: 0.0839 - accuracy: 0.9925 - val_loss: 0.3543 - val_accuracy: 0.8550\n",
      "Epoch 145/200\n",
      "8/8 [==============================] - 0s 3ms/step - loss: 0.0824 - accuracy: 0.9937 - val_loss: 0.3603 - val_accuracy: 0.8550\n",
      "Epoch 146/200\n",
      "8/8 [==============================] - 0s 3ms/step - loss: 0.0811 - accuracy: 0.9925 - val_loss: 0.3639 - val_accuracy: 0.8450\n",
      "Epoch 147/200\n",
      "8/8 [==============================] - 0s 3ms/step - loss: 0.0797 - accuracy: 0.9962 - val_loss: 0.3599 - val_accuracy: 0.8450\n",
      "Epoch 148/200\n",
      "8/8 [==============================] - 0s 3ms/step - loss: 0.0786 - accuracy: 0.9950 - val_loss: 0.3561 - val_accuracy: 0.8450\n",
      "Epoch 149/200\n",
      "8/8 [==============================] - 0s 3ms/step - loss: 0.0767 - accuracy: 0.9937 - val_loss: 0.3562 - val_accuracy: 0.8550\n",
      "Epoch 150/200\n",
      "8/8 [==============================] - 0s 3ms/step - loss: 0.0752 - accuracy: 0.9950 - val_loss: 0.3617 - val_accuracy: 0.8550\n",
      "Epoch 151/200\n",
      "8/8 [==============================] - 0s 3ms/step - loss: 0.0739 - accuracy: 0.9950 - val_loss: 0.3601 - val_accuracy: 0.8550\n",
      "Epoch 152/200\n",
      "8/8 [==============================] - 0s 3ms/step - loss: 0.0727 - accuracy: 0.9950 - val_loss: 0.3609 - val_accuracy: 0.8550\n",
      "Epoch 153/200\n",
      "8/8 [==============================] - 0s 3ms/step - loss: 0.0714 - accuracy: 0.9962 - val_loss: 0.3604 - val_accuracy: 0.8500\n",
      "Epoch 154/200\n",
      "8/8 [==============================] - 0s 3ms/step - loss: 0.0702 - accuracy: 0.9962 - val_loss: 0.3626 - val_accuracy: 0.8550\n",
      "Epoch 155/200\n",
      "8/8 [==============================] - 0s 3ms/step - loss: 0.0691 - accuracy: 0.9950 - val_loss: 0.3644 - val_accuracy: 0.8550\n",
      "Epoch 156/200\n",
      "8/8 [==============================] - 0s 3ms/step - loss: 0.0676 - accuracy: 0.9962 - val_loss: 0.3578 - val_accuracy: 0.8550\n",
      "Epoch 157/200\n",
      "8/8 [==============================] - 0s 3ms/step - loss: 0.0663 - accuracy: 0.9962 - val_loss: 0.3591 - val_accuracy: 0.8550\n",
      "Epoch 158/200\n",
      "8/8 [==============================] - 0s 3ms/step - loss: 0.0654 - accuracy: 0.9962 - val_loss: 0.3618 - val_accuracy: 0.8550\n",
      "Epoch 159/200\n",
      "8/8 [==============================] - 0s 3ms/step - loss: 0.0641 - accuracy: 0.9962 - val_loss: 0.3651 - val_accuracy: 0.8550\n",
      "Epoch 160/200\n",
      "8/8 [==============================] - 0s 3ms/step - loss: 0.0633 - accuracy: 0.9975 - val_loss: 0.3613 - val_accuracy: 0.8500\n",
      "Epoch 161/200\n",
      "8/8 [==============================] - 0s 3ms/step - loss: 0.0618 - accuracy: 0.9962 - val_loss: 0.3643 - val_accuracy: 0.8550\n",
      "Epoch 162/200\n",
      "8/8 [==============================] - 0s 3ms/step - loss: 0.0608 - accuracy: 0.9975 - val_loss: 0.3642 - val_accuracy: 0.8550\n",
      "Epoch 163/200\n",
      "8/8 [==============================] - 0s 3ms/step - loss: 0.0597 - accuracy: 0.9987 - val_loss: 0.3645 - val_accuracy: 0.8550\n",
      "Epoch 164/200\n",
      "8/8 [==============================] - 0s 3ms/step - loss: 0.0588 - accuracy: 0.9975 - val_loss: 0.3592 - val_accuracy: 0.8500\n",
      "Epoch 165/200\n",
      "8/8 [==============================] - 0s 3ms/step - loss: 0.0579 - accuracy: 0.9962 - val_loss: 0.3645 - val_accuracy: 0.8550\n",
      "Epoch 166/200\n",
      "8/8 [==============================] - 0s 4ms/step - loss: 0.0568 - accuracy: 0.9975 - val_loss: 0.3657 - val_accuracy: 0.8550\n",
      "Epoch 167/200\n",
      "8/8 [==============================] - 0s 5ms/step - loss: 0.0557 - accuracy: 0.9975 - val_loss: 0.3660 - val_accuracy: 0.8550\n",
      "Epoch 168/200\n",
      "8/8 [==============================] - 0s 3ms/step - loss: 0.0549 - accuracy: 0.9987 - val_loss: 0.3663 - val_accuracy: 0.8550\n",
      "Epoch 169/200\n",
      "8/8 [==============================] - 0s 3ms/step - loss: 0.0539 - accuracy: 0.9987 - val_loss: 0.3697 - val_accuracy: 0.8550\n",
      "Epoch 170/200\n",
      "8/8 [==============================] - 0s 3ms/step - loss: 0.0528 - accuracy: 0.9987 - val_loss: 0.3667 - val_accuracy: 0.8550\n",
      "Epoch 171/200\n",
      "8/8 [==============================] - 0s 3ms/step - loss: 0.0521 - accuracy: 0.9987 - val_loss: 0.3648 - val_accuracy: 0.8550\n",
      "Epoch 172/200\n",
      "8/8 [==============================] - 0s 3ms/step - loss: 0.0510 - accuracy: 0.9987 - val_loss: 0.3657 - val_accuracy: 0.8550\n",
      "Epoch 173/200\n",
      "8/8 [==============================] - 0s 3ms/step - loss: 0.0502 - accuracy: 0.9987 - val_loss: 0.3677 - val_accuracy: 0.8550\n",
      "Epoch 174/200\n",
      "8/8 [==============================] - 0s 3ms/step - loss: 0.0494 - accuracy: 0.9987 - val_loss: 0.3699 - val_accuracy: 0.8550\n",
      "Epoch 175/200\n",
      "8/8 [==============================] - 0s 3ms/step - loss: 0.0485 - accuracy: 0.9987 - val_loss: 0.3710 - val_accuracy: 0.8550\n",
      "Epoch 176/200\n",
      "8/8 [==============================] - 0s 3ms/step - loss: 0.0476 - accuracy: 0.9987 - val_loss: 0.3707 - val_accuracy: 0.8550\n",
      "Epoch 177/200\n",
      "8/8 [==============================] - 0s 3ms/step - loss: 0.0469 - accuracy: 0.9987 - val_loss: 0.3696 - val_accuracy: 0.8550\n",
      "Epoch 178/200\n",
      "8/8 [==============================] - 0s 3ms/step - loss: 0.0464 - accuracy: 0.9987 - val_loss: 0.3677 - val_accuracy: 0.8550\n",
      "Epoch 179/200\n",
      "8/8 [==============================] - 0s 3ms/step - loss: 0.0455 - accuracy: 0.9987 - val_loss: 0.3691 - val_accuracy: 0.8500\n",
      "Epoch 180/200\n",
      "8/8 [==============================] - 0s 3ms/step - loss: 0.0448 - accuracy: 0.9987 - val_loss: 0.3734 - val_accuracy: 0.8550\n",
      "Epoch 181/200\n",
      "8/8 [==============================] - 0s 4ms/step - loss: 0.0437 - accuracy: 1.0000 - val_loss: 0.3725 - val_accuracy: 0.8550\n",
      "Epoch 182/200\n",
      "8/8 [==============================] - 0s 3ms/step - loss: 0.0431 - accuracy: 1.0000 - val_loss: 0.3723 - val_accuracy: 0.8600\n",
      "Epoch 183/200\n",
      "8/8 [==============================] - 0s 3ms/step - loss: 0.0424 - accuracy: 0.9987 - val_loss: 0.3712 - val_accuracy: 0.8550\n",
      "Epoch 184/200\n",
      "8/8 [==============================] - 0s 3ms/step - loss: 0.0417 - accuracy: 1.0000 - val_loss: 0.3706 - val_accuracy: 0.8550\n",
      "Epoch 185/200\n",
      "8/8 [==============================] - 0s 3ms/step - loss: 0.0410 - accuracy: 0.9987 - val_loss: 0.3734 - val_accuracy: 0.8550\n",
      "Epoch 186/200\n",
      "8/8 [==============================] - 0s 3ms/step - loss: 0.0403 - accuracy: 1.0000 - val_loss: 0.3744 - val_accuracy: 0.8550\n",
      "Epoch 187/200\n",
      "8/8 [==============================] - 0s 3ms/step - loss: 0.0398 - accuracy: 1.0000 - val_loss: 0.3752 - val_accuracy: 0.8550\n",
      "Epoch 188/200\n",
      "8/8 [==============================] - 0s 8ms/step - loss: 0.0391 - accuracy: 1.0000 - val_loss: 0.3756 - val_accuracy: 0.8550\n",
      "Epoch 189/200\n",
      "8/8 [==============================] - 0s 3ms/step - loss: 0.0384 - accuracy: 1.0000 - val_loss: 0.3761 - val_accuracy: 0.8550\n",
      "Epoch 190/200\n",
      "8/8 [==============================] - 0s 3ms/step - loss: 0.0378 - accuracy: 1.0000 - val_loss: 0.3746 - val_accuracy: 0.8550\n",
      "Epoch 191/200\n",
      "8/8 [==============================] - 0s 3ms/step - loss: 0.0372 - accuracy: 1.0000 - val_loss: 0.3778 - val_accuracy: 0.8500\n",
      "Epoch 192/200\n",
      "8/8 [==============================] - 0s 3ms/step - loss: 0.0366 - accuracy: 1.0000 - val_loss: 0.3793 - val_accuracy: 0.8550\n",
      "Epoch 193/200\n",
      "8/8 [==============================] - 0s 3ms/step - loss: 0.0360 - accuracy: 1.0000 - val_loss: 0.3783 - val_accuracy: 0.8550\n",
      "Epoch 194/200\n",
      "8/8 [==============================] - 0s 3ms/step - loss: 0.0354 - accuracy: 1.0000 - val_loss: 0.3771 - val_accuracy: 0.8600\n",
      "Epoch 195/200\n",
      "8/8 [==============================] - 0s 3ms/step - loss: 0.0349 - accuracy: 1.0000 - val_loss: 0.3771 - val_accuracy: 0.8550\n",
      "Epoch 196/200\n",
      "8/8 [==============================] - 0s 3ms/step - loss: 0.0344 - accuracy: 1.0000 - val_loss: 0.3795 - val_accuracy: 0.8550\n",
      "Epoch 197/200\n",
      "8/8 [==============================] - 0s 3ms/step - loss: 0.0338 - accuracy: 1.0000 - val_loss: 0.3779 - val_accuracy: 0.8550\n",
      "Epoch 198/200\n",
      "8/8 [==============================] - 0s 3ms/step - loss: 0.0333 - accuracy: 1.0000 - val_loss: 0.3800 - val_accuracy: 0.8500\n",
      "Epoch 199/200\n",
      "8/8 [==============================] - 0s 3ms/step - loss: 0.0327 - accuracy: 1.0000 - val_loss: 0.3808 - val_accuracy: 0.8600\n",
      "Epoch 200/200\n",
      "8/8 [==============================] - 0s 3ms/step - loss: 0.0324 - accuracy: 1.0000 - val_loss: 0.3816 - val_accuracy: 0.8600\n"
     ]
    },
    {
     "data": {
      "image/png": "[encoded data removed]",
      "text/plain": [
       "<Figure size 640x480 with 1 Axes>"
      ]
     },
     "metadata": {},
     "output_type": "display_data"
    },
    {
     "data": {
      "image/png": "[encoded data removed]",
      "text/plain": [
       "<Figure size 640x480 with 1 Axes>"
      ]
     },
     "metadata": {},
     "output_type": "display_data"
    },
    {
     "name": "stdout",
     "output_type": "stream",
     "text": [
      "Test Loss: 0.38159823417663574\n",
      "Test Accuracy: 0.8600000143051147\n"
     ]
    }
   ],
   "source": [
    "# Retrieve the best hyperparameters\n",
    "best_params = study.best_params\n",
    "print(\"Best hyperparameters found by Optuna:\", best_params)\n",
    "\n",
    "# Extract the best parameters\n",
    "best_neurons = best_params['neurons']\n",
    "best_activation = best_params['activation']\n",
    "best_optimizer = best_params['optimizer']\n",
    "best_batch_size = best_params['batch_size']\n",
    "best_epochs = best_params['epochs']\n",
    "\n",
    "# Instantiate and compile the model with the best hyperparameters\n",
    "model = MyModel(input_shape=X_train.shape[1:], neurons=best_neurons, activation=best_activation)\n",
    "model.compile(optimizer=best_optimizer, loss=\"categorical_crossentropy\", metrics=[\"accuracy\"])\n",
    "\n",
    "# Train the model with the best hyperparameters\n",
    "history = model.fit(\n",
    "    X_train, y_train,\n",
    "    epochs=best_epochs,\n",
    "    batch_size=best_batch_size,\n",
    "    validation_data=(X_test, y_test),\n",
    "    verbose=1\n",
    ")\n",
    "\n",
    "# Plot training and validation accuracy/loss for deeper analysis\n",
    "import matplotlib.pyplot as plt\n",
    "\n",
    "# Plot accuracy\n",
    "plt.plot(history.history['accuracy'], label='Train Accuracy')\n",
    "plt.plot(history.history['val_accuracy'], label='Validation Accuracy')\n",
    "plt.xlabel('Epochs')\n",
    "plt.ylabel('Accuracy')\n",
    "plt.title('Training and Validation Accuracy')\n",
    "plt.legend()\n",
    "plt.show()\n",
    "\n",
    "# Plot loss\n",
    "plt.plot(history.history['loss'], label='Train Loss')\n",
    "plt.plot(history.history['val_loss'], label='Validation Loss')\n",
    "plt.xlabel('Epochs')\n",
    "plt.ylabel('Loss')\n",
    "plt.title('Training and Validation Loss')\n",
    "plt.legend()\n",
    "plt.show()\n",
    "\n",
    "# Evaluate the model on test data\n",
    "test_loss, test_accuracy = model.evaluate(X_test, y_test, verbose=0)\n",
    "print(\"Test Loss:\", test_loss)\n",
    "print(\"Test Accuracy:\", test_accuracy)\n"
   ]
  },
  {
   "cell_type": "code",
   "execution_count": 107,
   "metadata": {},
   "outputs": [
    {
     "name": "stdout",
     "output_type": "stream",
     "text": [
      "WARNING:tensorflow:AutoGraph could not transform <function Model.make_predict_function.<locals>.predict_function at 0x320812200> and will run it as-is.\n",
      "Cause: Unable to locate the source code of <function Model.make_predict_function.<locals>.predict_function at 0x320812200>. Note that functions defined in certain environments, like the interactive Python shell, do not expose their source code. If that is the case, you should define them in a .py source file. If you are certain the code is graph-compatible, wrap the call using @tf.autograph.experimental.do_not_convert. Original error: could not get source code\n",
      "To silence this warning, decorate the function with @tf.autograph.experimental.do_not_convert\n",
      "WARNING: AutoGraph could not transform <function Model.make_predict_function.<locals>.predict_function at 0x320812200> and will run it as-is.\n",
      "Cause: Unable to locate the source code of <function Model.make_predict_function.<locals>.predict_function at 0x320812200>. Note that functions defined in certain environments, like the interactive Python shell, do not expose their source code. If that is the case, you should define them in a .py source file. If you are certain the code is graph-compatible, wrap the call using @tf.autograph.experimental.do_not_convert. Original error: could not get source code\n",
      "To silence this warning, decorate the function with @tf.autograph.experimental.do_not_convert\n",
      "7/7 [==============================] - 0s 646us/step\n"
     ]
    },
    {
     "data": {
      "image/png": "[encoded data removed]",
      "text/plain": [
       "<Figure size 1000x1000 with 1 Axes>"
      ]
     },
     "metadata": {},
     "output_type": "display_data"
    }
   ],
   "source": [
    "plt.figure(figsize=(10, 10))\n",
    "plt.plot([0, 1], [0, 1], 'k--')\n",
    "\n",
    "Y_pred = model.predict(X_test)\n",
    "fpr, tpr, threshold = roc_curve(y_test.ravel(), Y_pred.ravel())\n",
    "\n",
    "plt.plot(fpr, tpr, label=f\"AUC = {auc(fpr, tpr):.3f}\")\n",
    "plt.xlabel('False positive rate')\n",
    "plt.ylabel('True positive rate')\n",
    "plt.title('ROC curve')\n",
    "plt.legend();"
   ]
  },
  {
   "cell_type": "markdown",
   "metadata": {},
   "source": [
    "Paveikslėlyje pavaizduotas Gavėjo Operacinio Charakteristikos kreivė (ROC kreivė) su plotu po kreive (AUC – Area Under the Curve) lygiu 0.902. ROC kreivė yra naudojama vertinant klasifikavimo modelių veikimą ir parodo tikrųjų teigiamų rodiklių (TPR – True Positive Rate) santykį prie neteisingųjų teigiamų rodiklių (FPR – False Positive Rate) skirtingais slenksčio nustatymais. Šiuo atveju, AUC reikšmė 0.902 rodo gan gerą klasifikavimo modelio veikimą. AUC yra viena iš labiausiai vertinamų metrikų, nes ji sujungia įvairius slenksčius į vieną vertinimo skaičių. AUC reikšmės diapazone nuo 0,5 (joks vertingumas, ekvivalentas atsitiktiniam spėjimui) iki 1,0 (tobulas veikimas) – šioje situacijoje 0.902 yra labai arti 1, o tai reiškia, kad modelis pakankamai gerai atskiria priskiria klases atliekant klasifikavimą."
   ]
  }
 ],
 "metadata": {
  "kernelspec": {
   "display_name": "Python 3",
   "language": "python",
   "name": "python3"
  },
  "language_info": {
   "codemirror_mode": {
    "name": "ipython",
    "version": 3
   },
   "file_extension": ".py",
   "mimetype": "text/x-python",
   "name": "python",
   "nbconvert_exporter": "python",
   "pygments_lexer": "ipython3",
   "version": "3.11.5"
  },
  "orig_nbformat": 4
 },
 "nbformat": 4,
 "nbformat_minor": 2
}
