{
 "cells": [
  {
   "cell_type": "markdown",
   "metadata": {},
   "source": [
    "# Teoriniai klausimai"
   ]
  },
  {
   "cell_type": "markdown",
   "metadata": {},
   "source": [
    "### 1. Palyginkite transformerius ir rekurentinius neuroninius tinklus laiko eilučių/sekų analizėje. Kokiais privalumais pasižymi transformeriai ir kaip tai pasiekiama (architektūra, mokymo algoritmai)?"
   ]
  },
  {
   "cell_type": "markdown",
   "metadata": {},
   "source": [
    "Rekurentiniai neuroniniai tinklai (RNN) ir LSTM (Long Short-Term Memory), ilgą laiką buvo pagrindinis pasirinkimas sekų ir laiko eilučių analizėje dėl jų gebėjimo tvarkyti laikinę priklausomybę. RNN natūraliai pritaikyti sekoms, nes jie apdoroja įvestis žingsnis po žingsnio, išlaikydami vidines būsenas, kurios padeda modeliuoti laikinę priklausomybę. Be to, LSTM patobulinimas leidžia RNN geriau išsaugoti ir naudoti ilgalaikes priklausomybes, sumažinant problemą dėl dingstančio gradiento. Tačiau šie metodai pasižymi ir gana aiškias minusais, tai labai ilgų sekų apdorojimas, nes ilgalaikė priklausomybės problema išlieka. Dėl savo architektūros RNN nėra paralelizuojami, todėl ir apmokymo laikas išauga gan reikšmingai bei negalima pamiršti ir gradientų problemos, kada dėl sekos ilgumo treniruojant jie dingsta (sprogsta). \n",
    "\n",
    "Vienas iš pagrindinių transformerių privalumų yra jų gebėjimas paralelizuoti apdorojimą. Skirtingai nuo RNN, transformerių architektūra leidžia apdoroti visą seką vienu metu, o ne žingsnis po žingsnio. Tai leidžia žymiai greičiau mokytis. Be to, transformeriai gali efektyviai modeliuoti ilgalaikes priklausomybes, nes jų dėmesio mechanizmai leidžia kiekvienam įvesties elementui „matyti“ visą seką. Dėmesio mechanizmas (attention mechanism), įskaitant tiek multi-head mechanizmą tiek self-attention, leidžia modeliams skirti daugiau dėmesio svarbiems sekos elementams, gerinant modelio tikslumą ir interpretavimą. Transformerių mokymo algoritmai dažniausiai remiasi gradientų nusileidimu su papildomais metodais, tokiais kaip Adam optimizer, kuris dėl savo pritaikomumo ir greito konvergavimo dažnai naudojamas transformerių mokymui. Regularizacijos metodai, tokie kaip „dropout“, padeda išvengti persimokymo. Mokymo taktika, kaip „warm-up“ strategijos ir dinaminiai mokymosi greičio mažinimo planai, padeda stabilizuoti mokymo procesą."
   ]
  },
  {
   "cell_type": "markdown",
   "metadata": {},
   "source": [
    "### 2. Kodėl įprastinė svorių keitimo taisyklė (gradientinio nusileidimo) buvo papildyta sudėtingesniais svorių keitimo algoritmais (AdaGrad, RMSProp, Adam)? Kodėl šios taisyklės lemia geresnes mokymosi savybes? Kokius mokymosi algoritmus esate išbandę savo projektuose? Kokie Jūsų pastebėjimai?"
   ]
  },
  {
   "cell_type": "markdown",
   "metadata": {},
   "source": [
    "Įprastinė gradientinio nusileidimo taisyklė buvo papildyta sudėtingesniais svorių keitimo algoritmais, tokiais kaip AdaGrad, RMSProp ir Adam, siekiant pagerinti mokymosi procesą ir pasiekti geresnius rezultatus. Tradicinis gradientinis nusileidimas dažnai susiduria su problemomis dėl nestabilaus konvergavimo ir užstrigimo vietiniuose minimumuose. Be to, dėl fiksuoto mokymosi greičio, gradientinis nusileidimas gali lėtai mokytis arba per greitai pereiti per minimumus, nepriklausomai nuo problemos sudėtingumo ar gradientų masto. Taip sudarant dar viena didelę problemą, jog mokymosi greitis turi būti parinktas labai tikslus, kad išvengti lokalaus minimumo arba globalaus minimumo nepasiekimo.\n",
    "\n",
    "Sudėtingesni svorių keitimo algoritmai, tokie kaip AdaGrad, RMSProp ir Adam, pagerina mokymosi savybes dėl jų gebėjimo pritaikyti mokymosi greitį dinaminiu būdu ir atsižvelgti į gradientų dydžius skirtingose ašyse. AdaGrad pritaiko mokymosi greitį pagal kiekvieno parametro gradientų istoriją. RMSProp ir Adam sprendžia AdaGrad problemas dėl per greito mokymosi greičio mažinimo, naudodami eksponentinį gradientų vidurkį, kuris leidžia efektyviau tvarkyti didelius gradientus ir stabilizuoja mokymosi procesą. Adam ypač populiarus dėl savo sujungtos AdaGrad ir RMSProp savybių, leidžiančių pasiekti greitą ir stabilų konvergavimą netgi sudėtingose problemose.\n",
    "\n",
    "Kadangi beveik visos mano užduotys yra susijusios su NLP, tai visad rinkausi Adam, nes kiti pasirinkimai atrodė svarbesni, tiek embeding parinkimas, tiek pačios architektūros."
   ]
  },
  {
   "cell_type": "markdown",
   "metadata": {},
   "source": [
    "### 3. Palyginkite autoenkoderius ir generuojančius-priešiškus neuroninius tinklus: architektūra, nuostolių funkcija ir mokymo algoritmas, taikymo sritys."
   ]
  },
  {
   "cell_type": "markdown",
   "metadata": {},
   "source": [
    "Autoenkoderiai yra neuroniniai tinklai, sudaryti iš dviejų pagrindinių dalių: enkoderio ir dekoderio. Enkoderis yra sluoksnių serija, kuri sumažina įvesties dimensijas, kurdama suspaustus pirminių duomenų atvaizdus, o dekoderis – sluoksnių serija, kuri bando atkurti pradinę įvestį iš sukurtų vaizdinių. Tuo tarpu GAN yra sudaryti iš dviejų pagrindinų komponenčių, tai generatoriaus ir diskriminatoriaus. Buitiškai kalbant generatorius bando sukurti duomenis artimus realiems, o diskriminatorius bando atskirti, kur yra realūs duomenys, o kada jam yra pateikama generatoriaus sugeneruotas dirbtinis pavyzdys.\n",
    "\n",
    "Autoenkoderiai dažniausia kaip nuostolių funkciją, kuri vertina kaip 'gerai' duomenys yra suspaudžiami, yra naudojama MSE (dar kartais ir MAE) bei entropija, kuri sulygina dviejų imčių pasiskirstymus. Mokymo algoritmas remiasi gradientiniu nusileidimu, optimizuojant nuostolių funkciją, kad minimizuotų atkūrimo klaidą. Tai leidžia autoenkoderiams mokytis efektyviai suspausti duomenis ir atkurti juos su minimaliu nuostoliu.\n",
    "\n",
    "GAN mokymo procese generatorius ir diskriminatorius treniruojami kartu, bet su skirtingais tikslais. Diskriminatorius bando kuo geriau atskirti tikrus duomenis nuo netikrų, o generatorius bando 'apgauti' diskriminatorių, sukuriant realistiškus pavyzdžius. Diskriminatoriaus nuostolių funkcija yra skaičiuojama atsižvelgiant į du pagrindinius aspektus tai į 'gerus' pavyzdžius, kurie gavo sugeneruoto atvėjo etiketę bei į 'blogus' pavyzdžius, kada generuotas atvėjis buvo klasifikuotas kaip realus. O generatoriaus atvėju, jis atsižvelgia ar sugebėjo 'suklaidinti' diskriminatorių ar ne. Mokymo algoritmas taip pat remiasi gradientiniu nusileidimu, tačiau generatorius ir diskriminatorius treniruojami pakaitomis, optimizuojant savo nuostolių funkcijas."
   ]
  },
  {
   "cell_type": "markdown",
   "metadata": {},
   "source": [
    "Praktinėje dalyje komentuodami savo kodą pagrįskite savo teorinės dalies atsakymus. Jei praktinėje dalyje pagrįsti atsakymo negalite (pvz. nepanaudojote tokio neuroninio tinklo tipo) - pateikite savo minčių kaip reiktų pakoreguoti / pakeisti / papildyti duomenų rinkinį, kad tokį neuroninį tinklą būtų galima panaudoti."
   ]
  },
  {
   "cell_type": "markdown",
   "metadata": {},
   "source": [
    "# Praktinė dalis"
   ]
  },
  {
   "cell_type": "markdown",
   "metadata": {},
   "source": [
    "Duomenų rinkinys: https://data.gov.lt/datasets/2616/ \n",
    "Galutinis failo adresas: https://get.data.gov.lt/datasets/gov/nsa/sr/studiju_pertraukimas/Pertraukimas/:format/csv"
   ]
  },
  {
   "cell_type": "markdown",
   "metadata": {},
   "source": [
    "Variantai pagal etapo_prad_data (metai įskaitytinai):\n",
    "1. Domas Belickas (2010-2013)\n",
    "2. Dominykas Eirošius (2012-2015)\n",
    "3. Aleksandras Iščenko (2014-2017)\n",
    "4. Vygandas Plėštys (2016-2019)\n",
    "5. Tadas Sadzevičius (2018-2021)\n",
    "6. Eimantas Zaranka (2020-2023)"
   ]
  },
  {
   "cell_type": "markdown",
   "metadata": {},
   "source": [
    "1. Savo hipotezei turite duomenų rinkinį susitvarkyti taip, kad turėtumėte laiko eilučių analizės uždavinį (būtina panaudoti RNN arba LSTM, ir bent vieną kitą neuroninį tinklą pvz. transformerius - tai jau jūsų pasirinkimas, tačiau negalima naudoti RNN ir LSTM, kaip dviejų skirtingų).\n",
    "2. Duomenys jau yra aprašyti, todėl galite duomenų aprašymą praleisti. Ataskaitoje pateikite hipotezę, uždavinius, paruoškite duomenis, stenkitės rasti tinkamiausią neuroninį tinklą (tarp skirtingų tipų, bei NN viduje tarp struktūros, parametrų) jūsų hipotezei pagrįsti / atmesti, komentuokite savo žingsnius, pateikite išvadas.\n",
    "\n",
    "Sėkmės!"
   ]
  },
  {
   "cell_type": "markdown",
   "metadata": {},
   "source": [
    "# Egzaminas"
   ]
  },
  {
   "cell_type": "code",
   "execution_count": 2,
   "metadata": {},
   "outputs": [],
   "source": [
    "import pandas as pd\n",
    "import numpy as np\n",
    "import datetime"
   ]
  },
  {
   "cell_type": "code",
   "execution_count": 3,
   "metadata": {},
   "outputs": [],
   "source": [
    "df = pd.read_csv('data_exam.csv')\n",
    "df['etapo_pradz_data'] = pd.to_datetime(df['etapo_pradz_data'], errors='coerce')\n",
    "df['grizimo_data'] = pd.to_datetime(df['grizimo_data'], errors='coerce')\n",
    "\n",
    "start_date = '2009-12-31'\n",
    "end_date = '2014-06-30'\n",
    "\n",
    "df = df[(df['etapo_pradz_data'] >= start_date) & (df['etapo_pradz_data'] <= end_date)]"
   ]
  },
  {
   "cell_type": "code",
   "execution_count": 6,
   "metadata": {},
   "outputs": [
    {
     "data": {
      "text/html": [
       "<div>\n",
       "<style scoped>\n",
       "    .dataframe tbody tr th:only-of-type {\n",
       "        vertical-align: middle;\n",
       "    }\n",
       "\n",
       "    .dataframe tbody tr th {\n",
       "        vertical-align: top;\n",
       "    }\n",
       "\n",
       "    .dataframe thead th {\n",
       "        text-align: right;\n",
       "    }\n",
       "</style>\n",
       "<table border=\"1\" class=\"dataframe\">\n",
       "  <thead>\n",
       "    <tr style=\"text-align: right;\">\n",
       "      <th></th>\n",
       "      <th>_type</th>\n",
       "      <th>_id</th>\n",
       "      <th>_revision</th>\n",
       "      <th>iraso_id</th>\n",
       "      <th>studento_stud_id</th>\n",
       "      <th>st_id</th>\n",
       "      <th>studento_gimmetai</th>\n",
       "      <th>studento_lytis</th>\n",
       "      <th>etapas</th>\n",
       "      <th>nutr_pert_priezastis</th>\n",
       "      <th>etapo_pradz_data</th>\n",
       "      <th>grizimo_data</th>\n",
       "      <th>std_pakopos_pav</th>\n",
       "      <th>kursas_i_kuri_grizo</th>\n",
       "      <th>prg_stud_sritis_pav</th>\n",
       "      <th>ins_pagr_tipas</th>\n",
       "      <th>std_studiju_pradzia</th>\n",
       "      <th>std_numatoma_stud_pabaiga</th>\n",
       "      <th>stud_baigimo_data</th>\n",
       "    </tr>\n",
       "  </thead>\n",
       "  <tbody>\n",
       "    <tr>\n",
       "      <th>2</th>\n",
       "      <td>datasets/gov/nsa/sr/studiju_pertraukimas/Pertr...</td>\n",
       "      <td>6dae4290-e5e6-488a-bb17-2b89ed41a46b</td>\n",
       "      <td>afbfa30a-4c49-4dae-8546-f95bcefa8109</td>\n",
       "      <td>98c1f4ba8c1fc3a</td>\n",
       "      <td>84b568fda1df719</td>\n",
       "      <td>a07284a92326763</td>\n",
       "      <td>1984-01-01</td>\n",
       "      <td>M</td>\n",
       "      <td>NUTRAUKIMAS</td>\n",
       "      <td>Savo noru</td>\n",
       "      <td>2011-10-03</td>\n",
       "      <td>NaT</td>\n",
       "      <td>Trečiosios pakopos studijos</td>\n",
       "      <td>NaN</td>\n",
       "      <td>NaN</td>\n",
       "      <td>Universitetas</td>\n",
       "      <td>2009-09-01</td>\n",
       "      <td>2013-09-01</td>\n",
       "      <td>NaN</td>\n",
       "    </tr>\n",
       "    <tr>\n",
       "      <th>4</th>\n",
       "      <td>datasets/gov/nsa/sr/studiju_pertraukimas/Pertr...</td>\n",
       "      <td>7be9cfc2-bf61-405a-b2f8-576eaaf247b3</td>\n",
       "      <td>e083ba53-be69-4592-bdfa-3721dea2eeb3</td>\n",
       "      <td>98c2c4c30f0a91b</td>\n",
       "      <td>05859d952e00c6d</td>\n",
       "      <td>7817c063df8f31c</td>\n",
       "      <td>1992-01-01</td>\n",
       "      <td>M</td>\n",
       "      <td>NUTRAUKIMAS</td>\n",
       "      <td>Nepažangumas</td>\n",
       "      <td>2014-02-25</td>\n",
       "      <td>NaT</td>\n",
       "      <td>Pirmosios pakopos studijos</td>\n",
       "      <td>NaN</td>\n",
       "      <td>Biomedicinos mokslų studijų sritis</td>\n",
       "      <td>Universitetas</td>\n",
       "      <td>2012-09-01</td>\n",
       "      <td>2016-06-30</td>\n",
       "      <td>NaN</td>\n",
       "    </tr>\n",
       "    <tr>\n",
       "      <th>8</th>\n",
       "      <td>datasets/gov/nsa/sr/studiju_pertraukimas/Pertr...</td>\n",
       "      <td>2fbea1cc-c8f7-4a69-9308-dab1826e4b12</td>\n",
       "      <td>ee0ce172-7acb-4fbf-976b-43ddd4843442</td>\n",
       "      <td>98c39805052ac3f</td>\n",
       "      <td>8b787e29781bc2d</td>\n",
       "      <td>4f4198b3b7e5347</td>\n",
       "      <td>1984-01-01</td>\n",
       "      <td>M</td>\n",
       "      <td>NUTRAUKIMAS</td>\n",
       "      <td>Nesumokėtas mokestis už mokslą (studijas)</td>\n",
       "      <td>2013-03-20</td>\n",
       "      <td>NaT</td>\n",
       "      <td>Pirmosios pakopos studijos</td>\n",
       "      <td>NaN</td>\n",
       "      <td>Socialinių mokslų studijų sritis</td>\n",
       "      <td>Kolegija</td>\n",
       "      <td>2007-09-01</td>\n",
       "      <td>2011-06-01</td>\n",
       "      <td>NaN</td>\n",
       "    </tr>\n",
       "    <tr>\n",
       "      <th>11</th>\n",
       "      <td>datasets/gov/nsa/sr/studiju_pertraukimas/Pertr...</td>\n",
       "      <td>36c6eea9-1ed7-4199-8c74-1b56998bd06e</td>\n",
       "      <td>086f07cb-fa3e-48a7-a572-b9a1ec28f2e8</td>\n",
       "      <td>98c4aafe70d4f1e</td>\n",
       "      <td>2a9b832d0620b69</td>\n",
       "      <td>4159dc01ccf219a</td>\n",
       "      <td>1993-01-01</td>\n",
       "      <td>M</td>\n",
       "      <td>NUTRAUKIMAS</td>\n",
       "      <td>Nesumokėtas mokestis už mokslą (studijas)</td>\n",
       "      <td>2013-10-14</td>\n",
       "      <td>NaT</td>\n",
       "      <td>Pirmosios pakopos studijos</td>\n",
       "      <td>NaN</td>\n",
       "      <td>Socialinių mokslų studijų sritis</td>\n",
       "      <td>Kolegija</td>\n",
       "      <td>2012-09-01</td>\n",
       "      <td>2016-06-30</td>\n",
       "      <td>NaN</td>\n",
       "    </tr>\n",
       "    <tr>\n",
       "      <th>13</th>\n",
       "      <td>datasets/gov/nsa/sr/studiju_pertraukimas/Pertr...</td>\n",
       "      <td>a3d3bda7-2c7e-4167-bc2c-cddb00a1deed</td>\n",
       "      <td>999afae5-31dc-4aba-92db-7584e35aec68</td>\n",
       "      <td>98c61a8887f07ed</td>\n",
       "      <td>074960864fd0fb4</td>\n",
       "      <td>646626b4c3ba31c</td>\n",
       "      <td>1992-01-01</td>\n",
       "      <td>V</td>\n",
       "      <td>PERTRAUKIMAS</td>\n",
       "      <td>Akademinės atostogos</td>\n",
       "      <td>2012-07-02</td>\n",
       "      <td>2013-03-06</td>\n",
       "      <td>Pirmosios pakopos studijos</td>\n",
       "      <td>1 kursas</td>\n",
       "      <td>Socialinių mokslų studijų sritis</td>\n",
       "      <td>Kolegija</td>\n",
       "      <td>2011-09-01</td>\n",
       "      <td>2014-06-30</td>\n",
       "      <td>NaN</td>\n",
       "    </tr>\n",
       "    <tr>\n",
       "      <th>14</th>\n",
       "      <td>datasets/gov/nsa/sr/studiju_pertraukimas/Pertr...</td>\n",
       "      <td>0d5e1921-9df6-45c6-8e37-644dc0567990</td>\n",
       "      <td>d1b1f107-f84d-45a6-a696-8b533df71f0d</td>\n",
       "      <td>98c62cae8dfa7a8</td>\n",
       "      <td>3f7b2a458b7ac8c</td>\n",
       "      <td>07c753ba89e5e12</td>\n",
       "      <td>1987-01-01</td>\n",
       "      <td>M</td>\n",
       "      <td>PERTRAUKIMAS</td>\n",
       "      <td>Kitos pertraukimo priežastys</td>\n",
       "      <td>2011-11-17</td>\n",
       "      <td>2012-12-10</td>\n",
       "      <td>Pirmosios pakopos studijos</td>\n",
       "      <td>NaN</td>\n",
       "      <td>Socialinių mokslų studijų sritis</td>\n",
       "      <td>Universitetas</td>\n",
       "      <td>2009-09-01</td>\n",
       "      <td>2016-06-30</td>\n",
       "      <td>NaN</td>\n",
       "    </tr>\n",
       "    <tr>\n",
       "      <th>20</th>\n",
       "      <td>datasets/gov/nsa/sr/studiju_pertraukimas/Pertr...</td>\n",
       "      <td>56e030fc-7864-46fd-8a80-18f3e8e94c4c</td>\n",
       "      <td>8d34a46f-819b-4aa9-b1a1-bfa78efebeaf</td>\n",
       "      <td>98c8b8bf94ad37a</td>\n",
       "      <td>3d56cc4627a9007</td>\n",
       "      <td>cd264fb8e697f6a</td>\n",
       "      <td>1979-01-01</td>\n",
       "      <td>V</td>\n",
       "      <td>PERTRAUKIMAS</td>\n",
       "      <td>Akademinės atostogos</td>\n",
       "      <td>2011-02-28</td>\n",
       "      <td>2012-02-01</td>\n",
       "      <td>Antrosios pakopos studijos</td>\n",
       "      <td>1 kursas</td>\n",
       "      <td>Socialinių mokslų studijų sritis</td>\n",
       "      <td>Universitetas</td>\n",
       "      <td>2010-09-01</td>\n",
       "      <td>2012-06-30</td>\n",
       "      <td>NaN</td>\n",
       "    </tr>\n",
       "  </tbody>\n",
       "</table>\n",
       "</div>"
      ],
      "text/plain": [
       "                                                _type  \\\n",
       "2   datasets/gov/nsa/sr/studiju_pertraukimas/Pertr...   \n",
       "4   datasets/gov/nsa/sr/studiju_pertraukimas/Pertr...   \n",
       "8   datasets/gov/nsa/sr/studiju_pertraukimas/Pertr...   \n",
       "11  datasets/gov/nsa/sr/studiju_pertraukimas/Pertr...   \n",
       "13  datasets/gov/nsa/sr/studiju_pertraukimas/Pertr...   \n",
       "14  datasets/gov/nsa/sr/studiju_pertraukimas/Pertr...   \n",
       "20  datasets/gov/nsa/sr/studiju_pertraukimas/Pertr...   \n",
       "\n",
       "                                     _id  \\\n",
       "2   6dae4290-e5e6-488a-bb17-2b89ed41a46b   \n",
       "4   7be9cfc2-bf61-405a-b2f8-576eaaf247b3   \n",
       "8   2fbea1cc-c8f7-4a69-9308-dab1826e4b12   \n",
       "11  36c6eea9-1ed7-4199-8c74-1b56998bd06e   \n",
       "13  a3d3bda7-2c7e-4167-bc2c-cddb00a1deed   \n",
       "14  0d5e1921-9df6-45c6-8e37-644dc0567990   \n",
       "20  56e030fc-7864-46fd-8a80-18f3e8e94c4c   \n",
       "\n",
       "                               _revision         iraso_id studento_stud_id  \\\n",
       "2   afbfa30a-4c49-4dae-8546-f95bcefa8109  98c1f4ba8c1fc3a  84b568fda1df719   \n",
       "4   e083ba53-be69-4592-bdfa-3721dea2eeb3  98c2c4c30f0a91b  05859d952e00c6d   \n",
       "8   ee0ce172-7acb-4fbf-976b-43ddd4843442  98c39805052ac3f  8b787e29781bc2d   \n",
       "11  086f07cb-fa3e-48a7-a572-b9a1ec28f2e8  98c4aafe70d4f1e  2a9b832d0620b69   \n",
       "13  999afae5-31dc-4aba-92db-7584e35aec68  98c61a8887f07ed  074960864fd0fb4   \n",
       "14  d1b1f107-f84d-45a6-a696-8b533df71f0d  98c62cae8dfa7a8  3f7b2a458b7ac8c   \n",
       "20  8d34a46f-819b-4aa9-b1a1-bfa78efebeaf  98c8b8bf94ad37a  3d56cc4627a9007   \n",
       "\n",
       "              st_id studento_gimmetai studento_lytis        etapas  \\\n",
       "2   a07284a92326763        1984-01-01              M   NUTRAUKIMAS   \n",
       "4   7817c063df8f31c        1992-01-01              M   NUTRAUKIMAS   \n",
       "8   4f4198b3b7e5347        1984-01-01              M   NUTRAUKIMAS   \n",
       "11  4159dc01ccf219a        1993-01-01              M   NUTRAUKIMAS   \n",
       "13  646626b4c3ba31c        1992-01-01              V  PERTRAUKIMAS   \n",
       "14  07c753ba89e5e12        1987-01-01              M  PERTRAUKIMAS   \n",
       "20  cd264fb8e697f6a        1979-01-01              V  PERTRAUKIMAS   \n",
       "\n",
       "                         nutr_pert_priezastis etapo_pradz_data grizimo_data  \\\n",
       "2                                   Savo noru       2011-10-03          NaT   \n",
       "4                                Nepažangumas       2014-02-25          NaT   \n",
       "8   Nesumokėtas mokestis už mokslą (studijas)       2013-03-20          NaT   \n",
       "11  Nesumokėtas mokestis už mokslą (studijas)       2013-10-14          NaT   \n",
       "13                       Akademinės atostogos       2012-07-02   2013-03-06   \n",
       "14               Kitos pertraukimo priežastys       2011-11-17   2012-12-10   \n",
       "20                       Akademinės atostogos       2011-02-28   2012-02-01   \n",
       "\n",
       "                std_pakopos_pav kursas_i_kuri_grizo  \\\n",
       "2   Trečiosios pakopos studijos                 NaN   \n",
       "4    Pirmosios pakopos studijos                 NaN   \n",
       "8    Pirmosios pakopos studijos                 NaN   \n",
       "11   Pirmosios pakopos studijos                 NaN   \n",
       "13   Pirmosios pakopos studijos            1 kursas   \n",
       "14   Pirmosios pakopos studijos                 NaN   \n",
       "20   Antrosios pakopos studijos            1 kursas   \n",
       "\n",
       "                   prg_stud_sritis_pav ins_pagr_tipas std_studiju_pradzia  \\\n",
       "2                                  NaN  Universitetas          2009-09-01   \n",
       "4   Biomedicinos mokslų studijų sritis  Universitetas          2012-09-01   \n",
       "8     Socialinių mokslų studijų sritis       Kolegija          2007-09-01   \n",
       "11    Socialinių mokslų studijų sritis       Kolegija          2012-09-01   \n",
       "13    Socialinių mokslų studijų sritis       Kolegija          2011-09-01   \n",
       "14    Socialinių mokslų studijų sritis  Universitetas          2009-09-01   \n",
       "20    Socialinių mokslų studijų sritis  Universitetas          2010-09-01   \n",
       "\n",
       "   std_numatoma_stud_pabaiga stud_baigimo_data  \n",
       "2                 2013-09-01               NaN  \n",
       "4                 2016-06-30               NaN  \n",
       "8                 2011-06-01               NaN  \n",
       "11                2016-06-30               NaN  \n",
       "13                2014-06-30               NaN  \n",
       "14                2016-06-30               NaN  \n",
       "20                2012-06-30               NaN  "
      ]
     },
     "execution_count": 6,
     "metadata": {},
     "output_type": "execute_result"
    }
   ],
   "source": [
    "df.head(7)"
   ]
  },
  {
   "cell_type": "markdown",
   "metadata": {},
   "source": [
    "### Idėjos:\n",
    "    - laiko eil kai paskaiciuoja ar studentas gris ivedus kiek laiko jau gone?\n",
    "    - sugrupuoti pagal menesi kada kiek studentu isejo ir taip rasti ateinancio menesio iseinanciu studentu kieki?\n",
    "    - padaryti su gan, kad duotoms specifikacijoms grazintu ar prates ar mes studijas zmogus"
   ]
  },
  {
   "cell_type": "markdown",
   "metadata": {},
   "source": [
    "# 1 užduotis"
   ]
  },
  {
   "cell_type": "markdown",
   "metadata": {},
   "source": [
    "Kadangi reikia surasti laiko eilutę, tai pasirinksime sugrupuoti visus studentus, kurie grįžo į savo studijas pagal mėnesius ir paimsime ilgesnį laikotarpį, kad būtų galima gauti daugiau duomenų. Šiai užduočiai būtų galima pritaikyti nurodytus neuroninius tinklus ir šiai užduočiai pasirinksiu naudoti LSTM architektūrą. Taigi užduotis bus prognozuoti, kiek studentų turėtų grįžti į studijas ateinančiu laikotarpiu."
   ]
  },
  {
   "cell_type": "markdown",
   "metadata": {},
   "source": [
    "Susiskaičiuojame, kiek studentų sugrįžta savo turimame laikotarpyje pagal mėnesį ir metus"
   ]
  },
  {
   "cell_type": "code",
   "execution_count": 30,
   "metadata": {},
   "outputs": [
    {
     "name": "stdout",
     "output_type": "stream",
     "text": [
      "Epoch 1/20\n",
      "66/66 [==============================] - 2s 2ms/step - loss: 0.0326\n",
      "Epoch 2/20\n",
      "66/66 [==============================] - 0s 1ms/step - loss: 0.0256\n",
      "Epoch 3/20\n",
      "66/66 [==============================] - 0s 1ms/step - loss: 0.0263\n",
      "Epoch 4/20\n",
      "66/66 [==============================] - 0s 2ms/step - loss: 0.0252\n",
      "Epoch 5/20\n",
      "66/66 [==============================] - 0s 1ms/step - loss: 0.0252\n",
      "Epoch 6/20\n",
      "66/66 [==============================] - 0s 1ms/step - loss: 0.0239\n",
      "Epoch 7/20\n",
      "66/66 [==============================] - 0s 1ms/step - loss: 0.0260\n",
      "Epoch 8/20\n",
      "66/66 [==============================] - 0s 1ms/step - loss: 0.0239\n",
      "Epoch 9/20\n",
      "66/66 [==============================] - 0s 1ms/step - loss: 0.0238\n",
      "Epoch 10/20\n",
      "66/66 [==============================] - 0s 1ms/step - loss: 0.0245\n",
      "Epoch 11/20\n",
      "66/66 [==============================] - 0s 1ms/step - loss: 0.0254\n",
      "Epoch 12/20\n",
      "66/66 [==============================] - 0s 1ms/step - loss: 0.0247\n",
      "Epoch 13/20\n",
      "66/66 [==============================] - 0s 1ms/step - loss: 0.0236\n",
      "Epoch 14/20\n",
      "66/66 [==============================] - 0s 1ms/step - loss: 0.0245\n",
      "Epoch 15/20\n",
      "66/66 [==============================] - 0s 1ms/step - loss: 0.0241\n",
      "Epoch 16/20\n",
      "66/66 [==============================] - 0s 2ms/step - loss: 0.0239\n",
      "Epoch 17/20\n",
      "66/66 [==============================] - 0s 1ms/step - loss: 0.0232\n",
      "Epoch 18/20\n",
      "66/66 [==============================] - 0s 1ms/step - loss: 0.0227\n",
      "Epoch 19/20\n",
      "66/66 [==============================] - 0s 1ms/step - loss: 0.0230\n",
      "Epoch 20/20\n",
      "66/66 [==============================] - 0s 1ms/step - loss: 0.0241\n",
      "3/3 [==============================] - 0s 2ms/step\n",
      "Mean Absolute Error (MAE): 1126.1454698967211\n",
      "Mean Squared Error (MSE): 2374950.2626365134\n",
      "Root Mean Squared Error (RMSE): 1541.087363726182\n"
     ]
    },
    {
     "data": {
      "image/png": "[encoded data removed]",
      "text/plain": [
       "<Figure size 1400x500 with 1 Axes>"
      ]
     },
     "metadata": {},
     "output_type": "display_data"
    }
   ],
   "source": [
    "import pandas as pd\n",
    "import numpy as np\n",
    "from sklearn.preprocessing import MinMaxScaler\n",
    "from sklearn.metrics import mean_absolute_error, mean_squared_error\n",
    "from tensorflow.keras.models import Sequential\n",
    "from tensorflow.keras.layers import LSTM, Dense\n",
    "import matplotlib.pyplot as plt\n",
    "\n",
    "df['std_studiju_pradzia'] = pd.to_datetime(df['std_studiju_pradzia'], errors='coerce')\n",
    "df['stud_baigimo_data'] = pd.to_datetime(df['stud_baigimo_data'], errors='coerce')\n",
    "df['grizimo_data'] = pd.to_datetime(df['grizimo_data'], errors='coerce')\n",
    "df['etapo_pradz_data'] = pd.to_datetime(df['etapo_pradz_data'], errors='coerce')\n",
    "start_date = min(df['grizimo_data'].min(), df['etapo_pradz_data'].min()).replace(day=1)\n",
    "end_date = pd.Timestamp('2015-06-30')  \n",
    "date_range = pd.date_range(start=start_date, end=end_date, freq='MS')\n",
    "results = []\n",
    "\n",
    "for date in date_range:\n",
    "    came_back_in_month = df[\n",
    "        (df['grizimo_data'].dt.to_period('M') == date.to_period('M'))\n",
    "    ].shape[0]\n",
    "    \n",
    "    left_in_month = df[\n",
    "        (df['etapo_pradz_data'].dt.to_period('M') == date.to_period('M'))\n",
    "    ].shape[0]\n",
    "    \n",
    "    results.append({'date': date, 'came_back_students': came_back_in_month, 'left_students': left_in_month})\n",
    "\n",
    "\n",
    "results_df = pd.DataFrame(results)\n",
    "results_df.set_index('date', inplace=True)\n",
    "scaler = MinMaxScaler(feature_range=(0, 1))\n",
    "scaled_data = scaler.fit_transform(results_df['left_students'].values.reshape(-1, 1))\n",
    "\n",
    "sequence_length = 3  \n",
    "x, y = [], []\n",
    "for i in range(sequence_length, len(scaled_data)):\n",
    "    x.append(scaled_data[i-sequence_length:i, 0])\n",
    "    y.append(scaled_data[i, 0])\n",
    "\n",
    "x, y = np.array(x), np.array(y)\n",
    "x = np.reshape(x, (x.shape[0], x.shape[1], 1))\n",
    "\n",
    "model = Sequential()\n",
    "model.add(LSTM(units=50, return_sequences=True, input_shape=(x.shape[1], 1)))\n",
    "model.add(LSTM(units=50))\n",
    "model.add(Dense(1))\n",
    "\n",
    "model.compile(optimizer='adam', loss='mean_squared_error')\n",
    "model.fit(x, y, epochs=20, batch_size=1)\n",
    "\n",
    "predicted = model.predict(x)\n",
    "predicted = scaler.inverse_transform(predicted)\n",
    "\n",
    "results_df['predicted_left_students'] = np.nan\n",
    "results_df.iloc[sequence_length:, results_df.columns.get_loc('predicted_left_students')] = predicted[:, 0]\n",
    "\n",
    "actual = results_df['left_students'].iloc[sequence_length:].values\n",
    "predicted_values = predicted[:, 0]\n",
    "\n",
    "mae = mean_absolute_error(actual, predicted_values)\n",
    "mse = mean_squared_error(actual, predicted_values)\n",
    "rmse = np.sqrt(mse)\n",
    "\n",
    "print(f'Mean Absolute Error (MAE): {mae}')\n",
    "print(f'Mean Squared Error (MSE): {mse}')\n",
    "print(f'Root Mean Squared Error (RMSE): {rmse}')\n",
    "\n",
    "plt.figure(figsize=(14, 5))\n",
    "plt.plot(results_df.index, results_df['left_students'], color='blue', label='Actual Left Students')\n",
    "plt.plot(results_df.index, results_df['predicted_left_students'], color='red', label='Predicted Left Students')\n",
    "plt.title('Students Left Studies Prediction')\n",
    "plt.xlabel('Date')\n",
    "plt.ylabel('Number of Students')\n",
    "plt.legend()\n",
    "plt.show()\n"
   ]
  },
  {
   "cell_type": "markdown",
   "metadata": {},
   "source": [
    "Norint sukurti kuo tikslesnį modelį studentų sugrįžimo prognozei, buvo atlikta įvairių parametrų optimizacija. Pirmiausia buvo išbandyti skirtingi lagų (sekos ilgių) variantai, siekiant nustatyti, kiek mėnesių duomenų reikia naudoti prognozuojant ateitį. Iš pradžių buvo bandomi lagai su 3, 6, 9 ir 12 mėnesių laikotarpiais. Kiekvienas lagas leido modeliui pasisemti skirtingą kiekį istorinės informacijos, o tiksliausi rezultatai buvo gauti naudojant 3 mėnesių lagą, nes jis suteikė tinkamą pusiausvyrą tarp duomenų kiekio ir modelio sudėtingumo.\n",
    "\n",
    "Be to, buvo eksperimentuota su skirtingu epochų skaičiumi ir neuronų kiekiu LSTM sluoksniuose. Epochų skaičius apibrėžia, kiek kartų modelis mato visą treniravimo duomenų rinkinį. Buvo išbandyta 5, 10, 20 ir 50 epochų, siekiant rasti optimalią vertę, kuri leistų modeliams išmokti reikalingų dėsningumų, tačiau nepersimokyti. Po daugybės bandymų, optimalus epochų skaičius buvo nustatytas ties 10 epochų, kas leido modeliams išmokti pakankamai dėsningumų ir išvengti persimokymo. Neuronų kiekis LSTM sluoksniuose taip pat buvo varijuojamas tarp 25, 50, 60 ir 75, kad būtų galima rasti tinkamą modelio sudėtingumo lygį. Galutinis pasirinktas modelis su 50 neuronų kiekviename LSTM sluoksnyje parodė geriausius rezultatus, užtikrindamas aukštą prognozavimo tikslumą ir stabilumą. Po šio optimizavimo proceso buvo vykdytas galutinis modelio treniravimas ir validavimas, patvirtinant jo efektyvumą ir gebėjimą tiksliai prognozuoti studentų sugrįžimą."
   ]
  },
  {
   "cell_type": "markdown",
   "metadata": {},
   "source": [
    "### Klasifikavimas"
   ]
  },
  {
   "cell_type": "markdown",
   "metadata": {},
   "source": [
    "Šioje dalyje aprašysime, kaip galima panaudoti turimus duomenis ir sudarius klasifikavimo užduotį ją pateikti, kaip sprendimą norint prognozuoti, ar tam tikras studentas grįš į studijas ir jas tęs, ar jau tikėtis to neverta. Taip galbūt bandant prognozuoti, kokį krepšelį galima užtikrinti ir, kad galbūt laisvą vietą reiktų perduoti studentui, kuris tikrai mokysis, o rizikoje esančius tiesiog paskatinti."
   ]
  },
  {
   "cell_type": "code",
   "execution_count": 4,
   "metadata": {},
   "outputs": [],
   "source": [
    "df['std_pakopos_pav_code'] = pd.factorize(df['std_pakopos_pav'])[0]\n",
    "df['lytis_indicator'] = df['studento_lytis'].map({'V': 1, 'M': 0})\n",
    "df['ins_pagr_tipas_indicator'] = df['ins_pagr_tipas'].map({'Universitetas': 1, 'Kolegija': 0})\n",
    "df['Y'] = df['grizimo_data'].apply(lambda x: 1 if pd.notnull(x) else 0)\n"
   ]
  },
  {
   "cell_type": "code",
   "execution_count": 6,
   "metadata": {},
   "outputs": [
    {
     "name": "stderr",
     "output_type": "stream",
     "text": [
      "WARNING:absl:At this time, the v2.11+ optimizer `tf.keras.optimizers.Adam` runs slowly on M1/M2 Macs, please use the legacy Keras optimizer instead, located at `tf.keras.optimizers.legacy.Adam`.\n"
     ]
    },
    {
     "name": "stdout",
     "output_type": "stream",
     "text": [
      "Epoch 1/5\n",
      "47117/47117 [==============================] - 29s 599us/step - loss: nan - accuracy: 0.7639 - val_loss: nan - val_accuracy: 0.7637\n",
      "Epoch 2/5\n",
      "47117/47117 [==============================] - 28s 595us/step - loss: nan - accuracy: 0.7640 - val_loss: nan - val_accuracy: 0.7637\n",
      "Epoch 3/5\n",
      "47117/47117 [==============================] - 29s 619us/step - loss: nan - accuracy: 0.7640 - val_loss: nan - val_accuracy: 0.7637\n",
      "Epoch 4/5\n",
      "47117/47117 [==============================] - 28s 593us/step - loss: nan - accuracy: 0.7640 - val_loss: nan - val_accuracy: 0.7637\n",
      "Epoch 5/5\n",
      "47117/47117 [==============================] - 28s 604us/step - loss: nan - accuracy: 0.7640 - val_loss: nan - val_accuracy: 0.7637\n",
      "921/921 [==============================] - 0s 385us/step\n",
      "Accuracy: 0.766341811266936\n",
      "Classification Report:\n",
      "              precision    recall  f1-score   support\n",
      "\n",
      "           0       0.77      1.00      0.87     22568\n",
      "           1       0.00      0.00      0.00      6881\n",
      "\n",
      "    accuracy                           0.77     29449\n",
      "   macro avg       0.38      0.50      0.43     29449\n",
      "weighted avg       0.59      0.77      0.66     29449\n",
      "\n"
     ]
    },
    {
     "name": "stderr",
     "output_type": "stream",
     "text": [
      "/Library/Frameworks/Python.framework/Versions/3.11/lib/python3.11/site-packages/sklearn/metrics/_classification.py:1469: UndefinedMetricWarning: Precision and F-score are ill-defined and being set to 0.0 in labels with no predicted samples. Use `zero_division` parameter to control this behavior.\n",
      "  _warn_prf(average, modifier, msg_start, len(result))\n",
      "/Library/Frameworks/Python.framework/Versions/3.11/lib/python3.11/site-packages/sklearn/metrics/_classification.py:1469: UndefinedMetricWarning: Precision and F-score are ill-defined and being set to 0.0 in labels with no predicted samples. Use `zero_division` parameter to control this behavior.\n",
      "  _warn_prf(average, modifier, msg_start, len(result))\n",
      "/Library/Frameworks/Python.framework/Versions/3.11/lib/python3.11/site-packages/sklearn/metrics/_classification.py:1469: UndefinedMetricWarning: Precision and F-score are ill-defined and being set to 0.0 in labels with no predicted samples. Use `zero_division` parameter to control this behavior.\n",
      "  _warn_prf(average, modifier, msg_start, len(result))\n"
     ]
    }
   ],
   "source": [
    "import pandas as pd\n",
    "import numpy as np\n",
    "from sklearn.model_selection import train_test_split\n",
    "from sklearn.preprocessing import StandardScaler\n",
    "from sklearn.metrics import accuracy_score, classification_report\n",
    "from transformers import BertTokenizer, TFBertForSequenceClassification\n",
    "from tensorflow.keras.optimizers import Adam\n",
    "import tensorflow as tf\n",
    "\n",
    "\n",
    "df['std_pakopos_pav_code'] = pd.factorize(df['std_pakopos_pav'])[0]\n",
    "df['lytis_indicator'] = df['studento_lytis'].map({'V': 1, 'M': 0})\n",
    "df['ins_pagr_tipas_indicator'] = df['ins_pagr_tipas'].map({'Universitetas': 1, 'Kolegija': 0})\n",
    "df['grizimo_data'] = pd.to_datetime(df['grizimo_data'], errors='coerce')\n",
    "df['grizimo_data_indicator'] = df['grizimo_data'].apply(lambda x: 1 if pd.notnull(x) else 0)\n",
    "\n",
    "X = df[['lytis_indicator', 'ins_pagr_tipas_indicator', 'std_pakopos_pav_code']]\n",
    "y = df['grizimo_data_indicator']\n",
    "\n",
    "X_train, X_test, y_train, y_test = train_test_split(X, y, test_size=0.2, random_state=42)\n",
    "\n",
    "scaler = StandardScaler()\n",
    "X_train_scaled = scaler.fit_transform(X_train)\n",
    "X_test_scaled = scaler.transform(X_test)\n",
    "\n",
    "model = tf.keras.Sequential([\n",
    "    tf.keras.layers.Input(shape=(X_train_scaled.shape[1])),\n",
    "    tf.keras.layers.Dense(64, activation='relu'),\n",
    "    tf.keras.layers.Dense(32, activation='relu'),\n",
    "    tf.keras.layers.Dense(1, activation='sigmoid')\n",
    "])\n",
    "\n",
    "model.compile(optimizer=Adam(learning_rate=0.001), loss='binary_crossentropy', metrics=['accuracy'])\n",
    "\n",
    "# Train the model\n",
    "model.fit(X_train_scaled, y_train, epochs=5, batch_size=2, validation_split=0.2)\n",
    "\n",
    "y_pred_prob = model.predict(X_test_scaled)\n",
    "y_pred = (y_pred_prob > 0.5).astype(int)\n",
    "\n",
    "accuracy = accuracy_score(y_test, y_pred)\n",
    "report = classification_report(y_test, y_pred)\n",
    "\n",
    "print(f'Accuracy: {accuracy}')\n",
    "print('Classification Report:')\n",
    "print(report)"
   ]
  },
  {
   "cell_type": "markdown",
   "metadata": {},
   "source": [
    "Esant geresnėms sąlygoms, pavyzdžiui, naudojant galingesnę kompiuterinę įrangą, būtų galima atlikti daugiau eksperimentų ir optimizacijų, siekiant sukurti tikslesnį ir efektyvesnį modelį. Galima būtų eksperimentuoti su įvairiais learning rate parametrais, naudoti metodus kaip learning rate annealing, learning rate scheduling ar Cyclical Learning Rates (CLR), siekiant rasti optimalų learning rate, kuris pagerintų mokymosi procesą. Taip pat būtų galima išbandyti skirtingas neuroninių tinklų architektūras, įskaitant giliau sukonstruotus modelius su daugiau sluoksnių ar hibridinius modelius, kuriuose būtų naudojami LSTM ar konvoliuciniai neuroniniai tinklai (CNN). Be to, galima būtų eksperimentuoti su įvairiais mokymo parametrais, tokiais kaip batch size, epochų skaičius, siekiant rasti optimalų modelio sudėtingumo lygį ir pagerinti prognozavimo tikslumą.\n",
    "\n",
    "Taip pat būtų galima ir patikslinti užduotį bei papildyti parametrų kiekį ir vėliau surasti tinkamus parametrus geriausiai pognozei atlikti."
   ]
  }
 ],
 "metadata": {
  "kernelspec": {
   "display_name": "base",
   "language": "python",
   "name": "python3"
  },
  "language_info": {
   "codemirror_mode": {
    "name": "ipython",
    "version": 3
   },
   "file_extension": ".py",
   "mimetype": "text/x-python",
   "name": "python",
   "nbconvert_exporter": "python",
   "pygments_lexer": "ipython3",
   "version": "3.11.5"
  }
 },
 "nbformat": 4,
 "nbformat_minor": 2
}
